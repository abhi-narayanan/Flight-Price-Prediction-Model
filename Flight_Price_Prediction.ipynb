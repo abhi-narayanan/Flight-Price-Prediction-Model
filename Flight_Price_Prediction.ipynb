{
 "cells": [
  {
   "cell_type": "code",
   "execution_count": 1,
   "id": "0c64007c",
   "metadata": {},
   "outputs": [],
   "source": [
    "# Import basic packages\n",
    "import numpy as np\n",
    "import pandas as pd\n",
    "import matplotlib.pyplot as plt\n",
    "%matplotlib inline\n",
    "import seaborn as sns\n",
    "\n",
    "import warnings\n",
    "warnings.filterwarnings('ignore')"
   ]
  },
  {
   "cell_type": "code",
   "execution_count": 2,
   "id": "1856af00",
   "metadata": {},
   "outputs": [
    {
     "data": {
      "text/html": [
       "<div>\n",
       "<style scoped>\n",
       "    .dataframe tbody tr th:only-of-type {\n",
       "        vertical-align: middle;\n",
       "    }\n",
       "\n",
       "    .dataframe tbody tr th {\n",
       "        vertical-align: top;\n",
       "    }\n",
       "\n",
       "    .dataframe thead th {\n",
       "        text-align: right;\n",
       "    }\n",
       "</style>\n",
       "<table border=\"1\" class=\"dataframe\">\n",
       "  <thead>\n",
       "    <tr style=\"text-align: right;\">\n",
       "      <th></th>\n",
       "      <th>Airline</th>\n",
       "      <th>Date_of_Journey</th>\n",
       "      <th>Source</th>\n",
       "      <th>Destination</th>\n",
       "      <th>Route</th>\n",
       "      <th>Dep_Time</th>\n",
       "      <th>Arrival_Time</th>\n",
       "      <th>Duration</th>\n",
       "      <th>Total_Stops</th>\n",
       "      <th>Additional_Info</th>\n",
       "      <th>Price</th>\n",
       "    </tr>\n",
       "  </thead>\n",
       "  <tbody>\n",
       "    <tr>\n",
       "      <th>0</th>\n",
       "      <td>IndiGo</td>\n",
       "      <td>24/03/2019</td>\n",
       "      <td>Banglore</td>\n",
       "      <td>New Delhi</td>\n",
       "      <td>BLR → DEL</td>\n",
       "      <td>22:20</td>\n",
       "      <td>01:10 22 Mar</td>\n",
       "      <td>2h 50m</td>\n",
       "      <td>non-stop</td>\n",
       "      <td>Null</td>\n",
       "      <td>3897</td>\n",
       "    </tr>\n",
       "    <tr>\n",
       "      <th>1</th>\n",
       "      <td>Air India</td>\n",
       "      <td>1/05/2019</td>\n",
       "      <td>Kolkata</td>\n",
       "      <td>Banglore</td>\n",
       "      <td>CCU → IXR → BBI → BLR</td>\n",
       "      <td>05:50</td>\n",
       "      <td>13:15</td>\n",
       "      <td>7h 25m</td>\n",
       "      <td>2 stops</td>\n",
       "      <td>Null</td>\n",
       "      <td>7662</td>\n",
       "    </tr>\n",
       "    <tr>\n",
       "      <th>2</th>\n",
       "      <td>Jet Airways</td>\n",
       "      <td>9/06/2019</td>\n",
       "      <td>Delhi</td>\n",
       "      <td>Cochin</td>\n",
       "      <td>DEL → LKO → BOM → COK</td>\n",
       "      <td>09:25</td>\n",
       "      <td>04:25 10 Jun</td>\n",
       "      <td>19h</td>\n",
       "      <td>2 stops</td>\n",
       "      <td>Null</td>\n",
       "      <td>13882</td>\n",
       "    </tr>\n",
       "    <tr>\n",
       "      <th>3</th>\n",
       "      <td>IndiGo</td>\n",
       "      <td>12/05/2019</td>\n",
       "      <td>Kolkata</td>\n",
       "      <td>Banglore</td>\n",
       "      <td>CCU → NAG → BLR</td>\n",
       "      <td>18:05</td>\n",
       "      <td>23:30</td>\n",
       "      <td>5h 25m</td>\n",
       "      <td>1 stop</td>\n",
       "      <td>Null</td>\n",
       "      <td>6218</td>\n",
       "    </tr>\n",
       "    <tr>\n",
       "      <th>4</th>\n",
       "      <td>IndiGo</td>\n",
       "      <td>01/03/2019</td>\n",
       "      <td>Banglore</td>\n",
       "      <td>New Delhi</td>\n",
       "      <td>BLR → NAG → DEL</td>\n",
       "      <td>16:50</td>\n",
       "      <td>21:35</td>\n",
       "      <td>4h 45m</td>\n",
       "      <td>1 stop</td>\n",
       "      <td>Null</td>\n",
       "      <td>13302</td>\n",
       "    </tr>\n",
       "  </tbody>\n",
       "</table>\n",
       "</div>"
      ],
      "text/plain": [
       "       Airline Date_of_Journey    Source Destination                  Route  \\\n",
       "0       IndiGo      24/03/2019  Banglore   New Delhi              BLR → DEL   \n",
       "1    Air India       1/05/2019   Kolkata    Banglore  CCU → IXR → BBI → BLR   \n",
       "2  Jet Airways       9/06/2019     Delhi      Cochin  DEL → LKO → BOM → COK   \n",
       "3       IndiGo      12/05/2019   Kolkata    Banglore        CCU → NAG → BLR   \n",
       "4       IndiGo      01/03/2019  Banglore   New Delhi        BLR → NAG → DEL   \n",
       "\n",
       "  Dep_Time  Arrival_Time Duration Total_Stops Additional_Info  Price  \n",
       "0    22:20  01:10 22 Mar   2h 50m    non-stop           Null    3897  \n",
       "1    05:50         13:15   7h 25m     2 stops            Null   7662  \n",
       "2    09:25  04:25 10 Jun      19h     2 stops            Null  13882  \n",
       "3    18:05         23:30   5h 25m      1 stop            Null   6218  \n",
       "4    16:50         21:35   4h 45m      1 stop            Null  13302  "
      ]
     },
     "execution_count": 2,
     "metadata": {},
     "output_type": "execute_result"
    }
   ],
   "source": [
    "# Import the dataset\n",
    "data = pd.read_excel('Data_Train.xlsx')\n",
    "data.head()"
   ]
  },
  {
   "cell_type": "code",
   "execution_count": 3,
   "id": "7f65d064",
   "metadata": {},
   "outputs": [
    {
     "name": "stdout",
     "output_type": "stream",
     "text": [
      "<class 'pandas.core.frame.DataFrame'>\n",
      "RangeIndex: 10683 entries, 0 to 10682\n",
      "Data columns (total 11 columns):\n",
      " #   Column           Non-Null Count  Dtype \n",
      "---  ------           --------------  ----- \n",
      " 0   Airline          10683 non-null  object\n",
      " 1   Date_of_Journey  10683 non-null  object\n",
      " 2   Source           10683 non-null  object\n",
      " 3   Destination      10683 non-null  object\n",
      " 4   Route            10682 non-null  object\n",
      " 5   Dep_Time         10683 non-null  object\n",
      " 6   Arrival_Time     10683 non-null  object\n",
      " 7   Duration         10683 non-null  object\n",
      " 8   Total_Stops      10682 non-null  object\n",
      " 9   Additional_Info  10683 non-null  object\n",
      " 10  Price            10683 non-null  int64 \n",
      "dtypes: int64(1), object(10)\n",
      "memory usage: 918.2+ KB\n"
     ]
    }
   ],
   "source": [
    "data.info()"
   ]
  },
  {
   "cell_type": "code",
   "execution_count": 4,
   "id": "5a6dd721",
   "metadata": {},
   "outputs": [
    {
     "data": {
      "image/png": "[encoded data removed]",
      "text/plain": [
       "<Figure size 1008x432 with 1 Axes>"
      ]
     },
     "metadata": {
      "needs_background": "light"
     },
     "output_type": "display_data"
    }
   ],
   "source": [
    "# Visualize the data\n",
    "# Price comparision of different airlines\n",
    "plt.figure(figsize=(14,6))\n",
    "g = sns.boxplot(x = 'Airline', y = 'Price', data = data.sort_values('Price', ascending = False))"
   ]
  },
  {
   "cell_type": "code",
   "execution_count": 6,
   "id": "01f2369e",
   "metadata": {},
   "outputs": [
    {
     "data": {
      "text/plain": [
       "<AxesSubplot:xlabel='Price'>"
      ]
     },
     "execution_count": 6,
     "metadata": {},
     "output_type": "execute_result"
    },
    {
     "data": {
      "image/png": "[encoded data removed]",
      "text/plain": [
       "<Figure size 720x288 with 1 Axes>"
      ]
     },
     "metadata": {
      "needs_background": "light"
     },
     "output_type": "display_data"
    }
   ],
   "source": [
    "# Check for outliers\n",
    "plt.figure(figsize=(10,4))\n",
    "sns.boxplot(data['Price'])"
   ]
  },
  {
   "cell_type": "code",
   "execution_count": 7,
   "id": "5314811c",
   "metadata": {},
   "outputs": [
    {
     "data": {
      "text/plain": [
       "657      52229\n",
       "1478     54826\n",
       "2618     54826\n",
       "2924     79512\n",
       "5372     62427\n",
       "5439     54826\n",
       "7351     46490\n",
       "9715     52285\n",
       "10364    57209\n",
       "Name: Price, dtype: int64"
      ]
     },
     "execution_count": 7,
     "metadata": {},
     "output_type": "execute_result"
    }
   ],
   "source": [
    "data[data['Price']>40000]['Price']"
   ]
  },
  {
   "cell_type": "code",
   "execution_count": 8,
   "id": "74924844",
   "metadata": {},
   "outputs": [],
   "source": [
    "# There are 9 prices which are above 40000. We can treat them as outliers and cap the price at 40000 and remove them.\n",
    "data = data.drop(data[data['Price']>40000].index)"
   ]
  },
  {
   "cell_type": "code",
   "execution_count": 9,
   "id": "6204a395",
   "metadata": {},
   "outputs": [
    {
     "data": {
      "text/html": [
       "<div>\n",
       "<style scoped>\n",
       "    .dataframe tbody tr th:only-of-type {\n",
       "        vertical-align: middle;\n",
       "    }\n",
       "\n",
       "    .dataframe tbody tr th {\n",
       "        vertical-align: top;\n",
       "    }\n",
       "\n",
       "    .dataframe thead th {\n",
       "        text-align: right;\n",
       "    }\n",
       "</style>\n",
       "<table border=\"1\" class=\"dataframe\">\n",
       "  <thead>\n",
       "    <tr style=\"text-align: right;\">\n",
       "      <th></th>\n",
       "      <th>Airline</th>\n",
       "      <th>Date_of_Journey</th>\n",
       "      <th>Source</th>\n",
       "      <th>Destination</th>\n",
       "      <th>Route</th>\n",
       "      <th>Dep_Time</th>\n",
       "      <th>Arrival_Time</th>\n",
       "      <th>Duration</th>\n",
       "      <th>Total_Stops</th>\n",
       "      <th>Additional_Info</th>\n",
       "      <th>Price</th>\n",
       "    </tr>\n",
       "  </thead>\n",
       "  <tbody>\n",
       "    <tr>\n",
       "      <th>9039</th>\n",
       "      <td>Air India</td>\n",
       "      <td>6/05/2019</td>\n",
       "      <td>Delhi</td>\n",
       "      <td>Cochin</td>\n",
       "      <td>NaN</td>\n",
       "      <td>09:45</td>\n",
       "      <td>09:25 07 May</td>\n",
       "      <td>23h 40m</td>\n",
       "      <td>NaN</td>\n",
       "      <td>Null</td>\n",
       "      <td>7480</td>\n",
       "    </tr>\n",
       "  </tbody>\n",
       "</table>\n",
       "</div>"
      ],
      "text/plain": [
       "        Airline Date_of_Journey Source Destination Route Dep_Time  \\\n",
       "9039  Air India       6/05/2019  Delhi      Cochin   NaN    09:45   \n",
       "\n",
       "      Arrival_Time Duration Total_Stops Additional_Info  Price  \n",
       "9039  09:25 07 May  23h 40m         NaN            Null   7480  "
      ]
     },
     "execution_count": 9,
     "metadata": {},
     "output_type": "execute_result"
    }
   ],
   "source": [
    "# Let's look at the null values first\n",
    "data[data['Route'].isna()]"
   ]
  },
  {
   "cell_type": "code",
   "execution_count": 10,
   "id": "0f471b64",
   "metadata": {},
   "outputs": [
    {
     "name": "stdout",
     "output_type": "stream",
     "text": [
      "<class 'pandas.core.frame.DataFrame'>\n",
      "Int64Index: 10673 entries, 0 to 10682\n",
      "Data columns (total 11 columns):\n",
      " #   Column           Non-Null Count  Dtype \n",
      "---  ------           --------------  ----- \n",
      " 0   Airline          10673 non-null  object\n",
      " 1   Date_of_Journey  10673 non-null  object\n",
      " 2   Source           10673 non-null  object\n",
      " 3   Destination      10673 non-null  object\n",
      " 4   Route            10673 non-null  object\n",
      " 5   Dep_Time         10673 non-null  object\n",
      " 6   Arrival_Time     10673 non-null  object\n",
      " 7   Duration         10673 non-null  object\n",
      " 8   Total_Stops      10673 non-null  object\n",
      " 9   Additional_Info  10673 non-null  object\n",
      " 10  Price            10673 non-null  int64 \n",
      "dtypes: int64(1), object(10)\n",
      "memory usage: 1000.6+ KB\n"
     ]
    }
   ],
   "source": [
    "# Only 1 row has both NA values. We can safely remove this row\n",
    "data.drop(data[data['Route'].isna()].index, inplace=True)\n",
    "data.info()"
   ]
  },
  {
   "cell_type": "markdown",
   "id": "12657fad",
   "metadata": {},
   "source": [
    "# Airline Column"
   ]
  },
  {
   "cell_type": "code",
   "execution_count": 11,
   "id": "53436c40",
   "metadata": {},
   "outputs": [
    {
     "data": {
      "text/plain": [
       "Jet Airways                          3846\n",
       "IndiGo                               2053\n",
       "Air India                            1751\n",
       "Multiple carriers                    1196\n",
       "SpiceJet                              818\n",
       "Vistara                               479\n",
       "Air Asia                              319\n",
       "GoAir                                 194\n",
       "Multiple carriers Premium economy      13\n",
       "Vistara Premium economy                 3\n",
       "Trujet                                  1\n",
       "Name: Airline, dtype: int64"
      ]
     },
     "execution_count": 11,
     "metadata": {},
     "output_type": "execute_result"
    }
   ],
   "source": [
    "data['Airline'].value_counts()"
   ]
  },
  {
   "cell_type": "code",
   "execution_count": null,
   "id": "3c42c024",
   "metadata": {},
   "outputs": [],
   "source": [
    "\"\"\"\n",
    "From the data above, the bottom 4 categories hardly make 0.1% of the data. We could deal with them in 2 ways,\n",
    "1. Add the data into the other categories\n",
    "2. Remove the data altogether\n",
    "\n",
    "We will experiment with the first method first.\n",
    "\n",
    "Jet Airways Business ---> Jet Airways\n",
    "Vistara Premium economy ---> Vistara\n",
    "Multiple carriers Premium economy  ---> Multiple carriers\n",
    "\"\"\""
   ]
  },
  {
   "cell_type": "code",
   "execution_count": 12,
   "id": "df8ce453",
   "metadata": {},
   "outputs": [],
   "source": [
    "data.loc[data['Airline'] == 'Jet Airways Business'] = 'Jet Airways'\n",
    "data.loc[data['Airline'] == 'Vistara Premium economy'] = 'Vistara'\n",
    "data.loc[data['Airline'] == 'Multiple carriers Premium economy'] = 'Multiple carriers'\n",
    "\n",
    "# Only 1 value of the Trujet carrier is insignicant, we can include this row into Jet Airways\n",
    "data.loc[data['Airline'] == 'Trujet'] = 'Jet Airways'"
   ]
  },
  {
   "cell_type": "code",
   "execution_count": 13,
   "id": "944555f9",
   "metadata": {},
   "outputs": [
    {
     "data": {
      "text/html": [
       "<div>\n",
       "<style scoped>\n",
       "    .dataframe tbody tr th:only-of-type {\n",
       "        vertical-align: middle;\n",
       "    }\n",
       "\n",
       "    .dataframe tbody tr th {\n",
       "        vertical-align: top;\n",
       "    }\n",
       "\n",
       "    .dataframe thead th {\n",
       "        text-align: right;\n",
       "    }\n",
       "</style>\n",
       "<table border=\"1\" class=\"dataframe\">\n",
       "  <thead>\n",
       "    <tr style=\"text-align: right;\">\n",
       "      <th></th>\n",
       "      <th>Air India</th>\n",
       "      <th>GoAir</th>\n",
       "      <th>IndiGo</th>\n",
       "      <th>Jet Airways</th>\n",
       "      <th>Multiple carriers</th>\n",
       "      <th>SpiceJet</th>\n",
       "      <th>Vistara</th>\n",
       "    </tr>\n",
       "  </thead>\n",
       "  <tbody>\n",
       "    <tr>\n",
       "      <th>0</th>\n",
       "      <td>0</td>\n",
       "      <td>0</td>\n",
       "      <td>1</td>\n",
       "      <td>0</td>\n",
       "      <td>0</td>\n",
       "      <td>0</td>\n",
       "      <td>0</td>\n",
       "    </tr>\n",
       "    <tr>\n",
       "      <th>1</th>\n",
       "      <td>1</td>\n",
       "      <td>0</td>\n",
       "      <td>0</td>\n",
       "      <td>0</td>\n",
       "      <td>0</td>\n",
       "      <td>0</td>\n",
       "      <td>0</td>\n",
       "    </tr>\n",
       "    <tr>\n",
       "      <th>2</th>\n",
       "      <td>0</td>\n",
       "      <td>0</td>\n",
       "      <td>0</td>\n",
       "      <td>1</td>\n",
       "      <td>0</td>\n",
       "      <td>0</td>\n",
       "      <td>0</td>\n",
       "    </tr>\n",
       "    <tr>\n",
       "      <th>3</th>\n",
       "      <td>0</td>\n",
       "      <td>0</td>\n",
       "      <td>1</td>\n",
       "      <td>0</td>\n",
       "      <td>0</td>\n",
       "      <td>0</td>\n",
       "      <td>0</td>\n",
       "    </tr>\n",
       "    <tr>\n",
       "      <th>4</th>\n",
       "      <td>0</td>\n",
       "      <td>0</td>\n",
       "      <td>1</td>\n",
       "      <td>0</td>\n",
       "      <td>0</td>\n",
       "      <td>0</td>\n",
       "      <td>0</td>\n",
       "    </tr>\n",
       "    <tr>\n",
       "      <th>...</th>\n",
       "      <td>...</td>\n",
       "      <td>...</td>\n",
       "      <td>...</td>\n",
       "      <td>...</td>\n",
       "      <td>...</td>\n",
       "      <td>...</td>\n",
       "      <td>...</td>\n",
       "    </tr>\n",
       "    <tr>\n",
       "      <th>10678</th>\n",
       "      <td>0</td>\n",
       "      <td>0</td>\n",
       "      <td>0</td>\n",
       "      <td>0</td>\n",
       "      <td>0</td>\n",
       "      <td>0</td>\n",
       "      <td>0</td>\n",
       "    </tr>\n",
       "    <tr>\n",
       "      <th>10679</th>\n",
       "      <td>1</td>\n",
       "      <td>0</td>\n",
       "      <td>0</td>\n",
       "      <td>0</td>\n",
       "      <td>0</td>\n",
       "      <td>0</td>\n",
       "      <td>0</td>\n",
       "    </tr>\n",
       "    <tr>\n",
       "      <th>10680</th>\n",
       "      <td>0</td>\n",
       "      <td>0</td>\n",
       "      <td>0</td>\n",
       "      <td>1</td>\n",
       "      <td>0</td>\n",
       "      <td>0</td>\n",
       "      <td>0</td>\n",
       "    </tr>\n",
       "    <tr>\n",
       "      <th>10681</th>\n",
       "      <td>0</td>\n",
       "      <td>0</td>\n",
       "      <td>0</td>\n",
       "      <td>0</td>\n",
       "      <td>0</td>\n",
       "      <td>0</td>\n",
       "      <td>1</td>\n",
       "    </tr>\n",
       "    <tr>\n",
       "      <th>10682</th>\n",
       "      <td>1</td>\n",
       "      <td>0</td>\n",
       "      <td>0</td>\n",
       "      <td>0</td>\n",
       "      <td>0</td>\n",
       "      <td>0</td>\n",
       "      <td>0</td>\n",
       "    </tr>\n",
       "  </tbody>\n",
       "</table>\n",
       "<p>10673 rows × 7 columns</p>\n",
       "</div>"
      ],
      "text/plain": [
       "       Air India  GoAir  IndiGo  Jet Airways  Multiple carriers  SpiceJet  \\\n",
       "0              0      0       1            0                  0         0   \n",
       "1              1      0       0            0                  0         0   \n",
       "2              0      0       0            1                  0         0   \n",
       "3              0      0       1            0                  0         0   \n",
       "4              0      0       1            0                  0         0   \n",
       "...          ...    ...     ...          ...                ...       ...   \n",
       "10678          0      0       0            0                  0         0   \n",
       "10679          1      0       0            0                  0         0   \n",
       "10680          0      0       0            1                  0         0   \n",
       "10681          0      0       0            0                  0         0   \n",
       "10682          1      0       0            0                  0         0   \n",
       "\n",
       "       Vistara  \n",
       "0            0  \n",
       "1            0  \n",
       "2            0  \n",
       "3            0  \n",
       "4            0  \n",
       "...        ...  \n",
       "10678        0  \n",
       "10679        0  \n",
       "10680        0  \n",
       "10681        1  \n",
       "10682        0  \n",
       "\n",
       "[10673 rows x 7 columns]"
      ]
     },
     "execution_count": 13,
     "metadata": {},
     "output_type": "execute_result"
    }
   ],
   "source": [
    "# Create dummy columns for all airlines\n",
    "airline_dummies = pd.get_dummies(data['Airline'], drop_first=True)\n",
    "airline_dummies"
   ]
  },
  {
   "cell_type": "code",
   "execution_count": 14,
   "id": "f75ef791",
   "metadata": {},
   "outputs": [],
   "source": [
    "data.drop('Airline', axis = 1, inplace = True)"
   ]
  },
  {
   "cell_type": "markdown",
   "id": "898c2bbb",
   "metadata": {},
   "source": [
    "# Additional_Info Column"
   ]
  },
  {
   "cell_type": "code",
   "execution_count": 16,
   "id": "a35a048b",
   "metadata": {},
   "outputs": [],
   "source": [
    "data['Additional_Info'].value_counts()"
   ]
  },
  {
   "cell_type": "code",
   "execution_count": null,
   "id": "c622bc96",
   "metadata": {},
   "outputs": [],
   "source": [
    "# More than 80% data has Null data. We can safely remove this column.\n",
    "data.drop('Additional_Info', axis = 1, inplace = True)"
   ]
  },
  {
   "cell_type": "markdown",
   "id": "6d478dde",
   "metadata": {},
   "source": [
    "# Date of Journey Column"
   ]
  },
  {
   "cell_type": "code",
   "execution_count": 17,
   "id": "17e28c6a",
   "metadata": {},
   "outputs": [
    {
     "data": {
      "text/plain": [
       "18/05/2019           504\n",
       "6/06/2019            503\n",
       "21/05/2019           497\n",
       "9/06/2019            495\n",
       "12/06/2019           493\n",
       "9/05/2019            484\n",
       "21/03/2019           410\n",
       "15/05/2019           405\n",
       "27/05/2019           382\n",
       "27/06/2019           355\n",
       "24/06/2019           351\n",
       "1/06/2019            342\n",
       "3/06/2019            333\n",
       "15/06/2019           328\n",
       "24/03/2019           323\n",
       "6/03/2019            306\n",
       "27/03/2019           299\n",
       "24/05/2019           286\n",
       "6/05/2019            281\n",
       "1/05/2019            277\n",
       "12/05/2019           259\n",
       "1/04/2019            257\n",
       "3/03/2019            217\n",
       "9/03/2019            200\n",
       "15/03/2019           162\n",
       "18/03/2019           154\n",
       "01/03/2019           147\n",
       "12/03/2019           142\n",
       "9/04/2019            125\n",
       "3/04/2019            110\n",
       "21/06/2019           109\n",
       "18/06/2019           105\n",
       "09/03/2019           102\n",
       "6/04/2019             99\n",
       "03/03/2019            96\n",
       "06/03/2019            95\n",
       "27/04/2019            94\n",
       "24/04/2019            92\n",
       "3/05/2019             90\n",
       "15/04/2019            89\n",
       "21/04/2019            82\n",
       "18/04/2019            67\n",
       "12/04/2019            63\n",
       "1/03/2019             46\n",
       "Multiple carriers     13\n",
       "Vistara                3\n",
       "Jet Airways            1\n",
       "Name: Date_of_Journey, dtype: int64"
      ]
     },
     "execution_count": 17,
     "metadata": {},
     "output_type": "execute_result"
    }
   ],
   "source": [
    "# Now we look at the Date_of_Journey column\n",
    "data['Date_of_Journey'].value_counts()"
   ]
  },
  {
   "cell_type": "code",
   "execution_count": 18,
   "id": "8ba98038",
   "metadata": {},
   "outputs": [
    {
     "data": {
      "text/plain": [
       "18/05/2019    504\n",
       "6/06/2019     503\n",
       "21/05/2019    497\n",
       "9/06/2019     495\n",
       "12/06/2019    493\n",
       "9/05/2019     484\n",
       "21/03/2019    410\n",
       "15/05/2019    405\n",
       "27/05/2019    382\n",
       "27/06/2019    355\n",
       "24/06/2019    351\n",
       "1/06/2019     342\n",
       "3/06/2019     333\n",
       "15/06/2019    328\n",
       "24/03/2019    323\n",
       "6/03/2019     306\n",
       "27/03/2019    299\n",
       "24/05/2019    286\n",
       "6/05/2019     281\n",
       "1/05/2019     277\n",
       "12/05/2019    259\n",
       "1/04/2019     257\n",
       "3/03/2019     217\n",
       "9/03/2019     200\n",
       "15/03/2019    162\n",
       "18/03/2019    154\n",
       "01/03/2019    147\n",
       "12/03/2019    142\n",
       "9/04/2019     125\n",
       "3/04/2019     110\n",
       "21/06/2019    109\n",
       "18/06/2019    105\n",
       "09/03/2019    102\n",
       "6/04/2019      99\n",
       "03/03/2019     96\n",
       "06/03/2019     95\n",
       "27/04/2019     94\n",
       "24/04/2019     92\n",
       "3/05/2019      90\n",
       "15/04/2019     89\n",
       "21/04/2019     82\n",
       "18/04/2019     67\n",
       "12/04/2019     63\n",
       "1/03/2019      46\n",
       "Name: Date_of_Journey, dtype: int64"
      ]
     },
     "execution_count": 18,
     "metadata": {},
     "output_type": "execute_result"
    }
   ],
   "source": [
    "# The last 3 rows have incorrect dates. Let's remove these rows as there are only 23 such records.\n",
    "my_list = ['Multiple carriers', 'Jet Airways', 'Vistara']\n",
    "\n",
    "for i in range(len(my_list)):\n",
    "    data.drop(data[data['Date_of_Journey'] == my_list[i]].index, inplace=True)\n",
    "    \n",
    "data['Date_of_Journey'].value_counts()"
   ]
  },
  {
   "cell_type": "code",
   "execution_count": 19,
   "id": "a79aae78",
   "metadata": {},
   "outputs": [],
   "source": [
    "# Let's convert this column into datetime\n",
    "data['Date_of_Journey'] = pd.to_datetime(data['Date_of_Journey'])\n",
    "\n",
    "# We will add another column named 'Day_of_Week'. The flight prices are high on certain days than others.\n",
    "data['Day_of_Week'] = data['Date_of_Journey'].dt.day_name()"
   ]
  },
  {
   "cell_type": "code",
   "execution_count": 20,
   "id": "ef46bcc0",
   "metadata": {},
   "outputs": [
    {
     "data": {
      "text/plain": [
       "<AxesSubplot:xlabel='Day_of_Week', ylabel='Price'>"
      ]
     },
     "execution_count": 20,
     "metadata": {},
     "output_type": "execute_result"
    },
    {
     "data": {
      "image/png": "[encoded data removed]",
      "text/plain": [
       "<Figure size 576x288 with 1 Axes>"
      ]
     },
     "metadata": {
      "needs_background": "light"
     },
     "output_type": "display_data"
    }
   ],
   "source": [
    "plt.figure(figsize=(8,4))\n",
    "sns.boxplot(x = 'Day_of_Week', data = data, y = 'Price')"
   ]
  },
  {
   "cell_type": "code",
   "execution_count": 21,
   "id": "32b3da16",
   "metadata": {},
   "outputs": [
    {
     "data": {
      "text/html": [
       "<div>\n",
       "<style scoped>\n",
       "    .dataframe tbody tr th:only-of-type {\n",
       "        vertical-align: middle;\n",
       "    }\n",
       "\n",
       "    .dataframe tbody tr th {\n",
       "        vertical-align: top;\n",
       "    }\n",
       "\n",
       "    .dataframe thead th {\n",
       "        text-align: right;\n",
       "    }\n",
       "</style>\n",
       "<table border=\"1\" class=\"dataframe\">\n",
       "  <thead>\n",
       "    <tr style=\"text-align: right;\">\n",
       "      <th></th>\n",
       "      <th>Monday</th>\n",
       "      <th>Saturday</th>\n",
       "      <th>Sunday</th>\n",
       "      <th>Thursday</th>\n",
       "      <th>Tuesday</th>\n",
       "      <th>Wednesday</th>\n",
       "    </tr>\n",
       "  </thead>\n",
       "  <tbody>\n",
       "    <tr>\n",
       "      <th>0</th>\n",
       "      <td>0</td>\n",
       "      <td>0</td>\n",
       "      <td>1</td>\n",
       "      <td>0</td>\n",
       "      <td>0</td>\n",
       "      <td>0</td>\n",
       "    </tr>\n",
       "    <tr>\n",
       "      <th>1</th>\n",
       "      <td>0</td>\n",
       "      <td>1</td>\n",
       "      <td>0</td>\n",
       "      <td>0</td>\n",
       "      <td>0</td>\n",
       "      <td>0</td>\n",
       "    </tr>\n",
       "    <tr>\n",
       "      <th>2</th>\n",
       "      <td>0</td>\n",
       "      <td>0</td>\n",
       "      <td>0</td>\n",
       "      <td>0</td>\n",
       "      <td>0</td>\n",
       "      <td>0</td>\n",
       "    </tr>\n",
       "    <tr>\n",
       "      <th>3</th>\n",
       "      <td>0</td>\n",
       "      <td>0</td>\n",
       "      <td>0</td>\n",
       "      <td>1</td>\n",
       "      <td>0</td>\n",
       "      <td>0</td>\n",
       "    </tr>\n",
       "    <tr>\n",
       "      <th>4</th>\n",
       "      <td>0</td>\n",
       "      <td>0</td>\n",
       "      <td>0</td>\n",
       "      <td>1</td>\n",
       "      <td>0</td>\n",
       "      <td>0</td>\n",
       "    </tr>\n",
       "    <tr>\n",
       "      <th>...</th>\n",
       "      <td>...</td>\n",
       "      <td>...</td>\n",
       "      <td>...</td>\n",
       "      <td>...</td>\n",
       "      <td>...</td>\n",
       "      <td>...</td>\n",
       "    </tr>\n",
       "    <tr>\n",
       "      <th>10678</th>\n",
       "      <td>0</td>\n",
       "      <td>0</td>\n",
       "      <td>0</td>\n",
       "      <td>0</td>\n",
       "      <td>0</td>\n",
       "      <td>1</td>\n",
       "    </tr>\n",
       "    <tr>\n",
       "      <th>10679</th>\n",
       "      <td>0</td>\n",
       "      <td>1</td>\n",
       "      <td>0</td>\n",
       "      <td>0</td>\n",
       "      <td>0</td>\n",
       "      <td>0</td>\n",
       "    </tr>\n",
       "    <tr>\n",
       "      <th>10680</th>\n",
       "      <td>0</td>\n",
       "      <td>1</td>\n",
       "      <td>0</td>\n",
       "      <td>0</td>\n",
       "      <td>0</td>\n",
       "      <td>0</td>\n",
       "    </tr>\n",
       "    <tr>\n",
       "      <th>10681</th>\n",
       "      <td>0</td>\n",
       "      <td>0</td>\n",
       "      <td>0</td>\n",
       "      <td>1</td>\n",
       "      <td>0</td>\n",
       "      <td>0</td>\n",
       "    </tr>\n",
       "    <tr>\n",
       "      <th>10682</th>\n",
       "      <td>0</td>\n",
       "      <td>0</td>\n",
       "      <td>0</td>\n",
       "      <td>1</td>\n",
       "      <td>0</td>\n",
       "      <td>0</td>\n",
       "    </tr>\n",
       "  </tbody>\n",
       "</table>\n",
       "<p>10656 rows × 6 columns</p>\n",
       "</div>"
      ],
      "text/plain": [
       "       Monday  Saturday  Sunday  Thursday  Tuesday  Wednesday\n",
       "0           0         0       1         0        0          0\n",
       "1           0         1       0         0        0          0\n",
       "2           0         0       0         0        0          0\n",
       "3           0         0       0         1        0          0\n",
       "4           0         0       0         1        0          0\n",
       "...       ...       ...     ...       ...      ...        ...\n",
       "10678       0         0       0         0        0          1\n",
       "10679       0         1       0         0        0          0\n",
       "10680       0         1       0         0        0          0\n",
       "10681       0         0       0         1        0          0\n",
       "10682       0         0       0         1        0          0\n",
       "\n",
       "[10656 rows x 6 columns]"
      ]
     },
     "execution_count": 21,
     "metadata": {},
     "output_type": "execute_result"
    }
   ],
   "source": [
    "# Saturday, Friday, and Wednesday has lower prices as compared to the other days of the week\n",
    "journey_day_dummies = pd.get_dummies(data['Day_of_Week'], drop_first=True)\n",
    "data.drop('Day_of_Week', axis = 1, inplace = True)\n",
    "\n",
    "journey_day_dummies"
   ]
  },
  {
   "cell_type": "code",
   "execution_count": 22,
   "id": "65fe7fe5",
   "metadata": {},
   "outputs": [],
   "source": [
    "# We will add another column named 'Month'. Let's check how the prices vary in different months.\n",
    "data['Month'] = data['Date_of_Journey'].dt.month"
   ]
  },
  {
   "cell_type": "code",
   "execution_count": 23,
   "id": "b708ba68",
   "metadata": {},
   "outputs": [
    {
     "data": {
      "text/plain": [
       "<AxesSubplot:xlabel='Month', ylabel='Price'>"
      ]
     },
     "execution_count": 23,
     "metadata": {},
     "output_type": "execute_result"
    },
    {
     "data": {
      "image/png": "[encoded data removed]",
      "text/plain": [
       "<Figure size 576x288 with 1 Axes>"
      ]
     },
     "metadata": {
      "needs_background": "light"
     },
     "output_type": "display_data"
    }
   ],
   "source": [
    "plt.figure(figsize=(8,4))\n",
    "sns.boxplot(x = 'Month', data = data, y = 'Price')"
   ]
  },
  {
   "cell_type": "code",
   "execution_count": 24,
   "id": "0908a75e",
   "metadata": {},
   "outputs": [],
   "source": [
    "# Remove Date_of_Journey column\n",
    "data.drop('Date_of_Journey', axis = 1, inplace = True)"
   ]
  },
  {
   "cell_type": "markdown",
   "id": "62bd2a17",
   "metadata": {},
   "source": [
    "# Dep_Time Column"
   ]
  },
  {
   "cell_type": "code",
   "execution_count": 25,
   "id": "c5539a6a",
   "metadata": {},
   "outputs": [],
   "source": [
    "# Split the hour and minutes using : as a separator\n",
    "data['dep_time_hour'] = data['Dep_Time'].str.split(\":\").str[0]\n",
    "data['dep_time_hour'] = data['dep_time_hour'].astype('int64')"
   ]
  },
  {
   "cell_type": "code",
   "execution_count": 26,
   "id": "841341a7",
   "metadata": {},
   "outputs": [],
   "source": [
    "data['dep_time_min'] = data['Dep_Time'].str.split(\":\").str[1]\n",
    "data['dep_time_min'] = data['dep_time_min'].astype('int64')"
   ]
  },
  {
   "cell_type": "code",
   "execution_count": 27,
   "id": "1eb12be2",
   "metadata": {},
   "outputs": [
    {
     "data": {
      "text/html": [
       "<div>\n",
       "<style scoped>\n",
       "    .dataframe tbody tr th:only-of-type {\n",
       "        vertical-align: middle;\n",
       "    }\n",
       "\n",
       "    .dataframe tbody tr th {\n",
       "        vertical-align: top;\n",
       "    }\n",
       "\n",
       "    .dataframe thead th {\n",
       "        text-align: right;\n",
       "    }\n",
       "</style>\n",
       "<table border=\"1\" class=\"dataframe\">\n",
       "  <thead>\n",
       "    <tr style=\"text-align: right;\">\n",
       "      <th></th>\n",
       "      <th>Source</th>\n",
       "      <th>Destination</th>\n",
       "      <th>Route</th>\n",
       "      <th>Arrival_Time</th>\n",
       "      <th>Duration</th>\n",
       "      <th>Total_Stops</th>\n",
       "      <th>Price</th>\n",
       "      <th>Month</th>\n",
       "      <th>dep_time_hour</th>\n",
       "      <th>dep_time_min</th>\n",
       "    </tr>\n",
       "  </thead>\n",
       "  <tbody>\n",
       "    <tr>\n",
       "      <th>0</th>\n",
       "      <td>Banglore</td>\n",
       "      <td>New Delhi</td>\n",
       "      <td>BLR → DEL</td>\n",
       "      <td>01:10 22 Mar</td>\n",
       "      <td>2h 50m</td>\n",
       "      <td>non-stop</td>\n",
       "      <td>3897</td>\n",
       "      <td>3</td>\n",
       "      <td>22</td>\n",
       "      <td>20</td>\n",
       "    </tr>\n",
       "    <tr>\n",
       "      <th>1</th>\n",
       "      <td>Kolkata</td>\n",
       "      <td>Banglore</td>\n",
       "      <td>CCU → IXR → BBI → BLR</td>\n",
       "      <td>13:15</td>\n",
       "      <td>7h 25m</td>\n",
       "      <td>2 stops</td>\n",
       "      <td>7662</td>\n",
       "      <td>1</td>\n",
       "      <td>5</td>\n",
       "      <td>50</td>\n",
       "    </tr>\n",
       "    <tr>\n",
       "      <th>2</th>\n",
       "      <td>Delhi</td>\n",
       "      <td>Cochin</td>\n",
       "      <td>DEL → LKO → BOM → COK</td>\n",
       "      <td>04:25 10 Jun</td>\n",
       "      <td>19h</td>\n",
       "      <td>2 stops</td>\n",
       "      <td>13882</td>\n",
       "      <td>9</td>\n",
       "      <td>9</td>\n",
       "      <td>25</td>\n",
       "    </tr>\n",
       "    <tr>\n",
       "      <th>3</th>\n",
       "      <td>Kolkata</td>\n",
       "      <td>Banglore</td>\n",
       "      <td>CCU → NAG → BLR</td>\n",
       "      <td>23:30</td>\n",
       "      <td>5h 25m</td>\n",
       "      <td>1 stop</td>\n",
       "      <td>6218</td>\n",
       "      <td>12</td>\n",
       "      <td>18</td>\n",
       "      <td>5</td>\n",
       "    </tr>\n",
       "    <tr>\n",
       "      <th>4</th>\n",
       "      <td>Banglore</td>\n",
       "      <td>New Delhi</td>\n",
       "      <td>BLR → NAG → DEL</td>\n",
       "      <td>21:35</td>\n",
       "      <td>4h 45m</td>\n",
       "      <td>1 stop</td>\n",
       "      <td>13302</td>\n",
       "      <td>1</td>\n",
       "      <td>16</td>\n",
       "      <td>50</td>\n",
       "    </tr>\n",
       "  </tbody>\n",
       "</table>\n",
       "</div>"
      ],
      "text/plain": [
       "     Source Destination                  Route  Arrival_Time Duration  \\\n",
       "0  Banglore   New Delhi              BLR → DEL  01:10 22 Mar   2h 50m   \n",
       "1   Kolkata    Banglore  CCU → IXR → BBI → BLR         13:15   7h 25m   \n",
       "2     Delhi      Cochin  DEL → LKO → BOM → COK  04:25 10 Jun      19h   \n",
       "3   Kolkata    Banglore        CCU → NAG → BLR         23:30   5h 25m   \n",
       "4  Banglore   New Delhi        BLR → NAG → DEL         21:35   4h 45m   \n",
       "\n",
       "  Total_Stops  Price  Month  dep_time_hour  dep_time_min  \n",
       "0    non-stop   3897      3             22            20  \n",
       "1     2 stops   7662      1              5            50  \n",
       "2     2 stops  13882      9              9            25  \n",
       "3      1 stop   6218     12             18             5  \n",
       "4      1 stop  13302      1             16            50  "
      ]
     },
     "execution_count": 27,
     "metadata": {},
     "output_type": "execute_result"
    }
   ],
   "source": [
    "data.drop('Dep_Time', axis = 1, inplace = True)\n",
    "data.head()"
   ]
  },
  {
   "cell_type": "markdown",
   "id": "a1048e42",
   "metadata": {},
   "source": [
    "# Arrival_Time Column"
   ]
  },
  {
   "cell_type": "code",
   "execution_count": 28,
   "id": "33eced6c",
   "metadata": {},
   "outputs": [],
   "source": [
    "# Getting the first 2 characters for the hour column\n",
    "data['arr_time_hour'] = data['Arrival_Time'].str[:2]\n",
    "data['arr_time_hour'] = data['arr_time_hour'].astype('int64')"
   ]
  },
  {
   "cell_type": "code",
   "execution_count": 29,
   "id": "8ba5705c",
   "metadata": {},
   "outputs": [],
   "source": [
    "# Getting the last 2 characters for the minutes column\n",
    "data['arr_time_min'] = data['Arrival_Time'].str[3:5]\n",
    "data['arr_time_min'] = data['arr_time_min'].astype('int64')"
   ]
  },
  {
   "cell_type": "code",
   "execution_count": 30,
   "id": "b6d2f017",
   "metadata": {},
   "outputs": [
    {
     "data": {
      "text/html": [
       "<div>\n",
       "<style scoped>\n",
       "    .dataframe tbody tr th:only-of-type {\n",
       "        vertical-align: middle;\n",
       "    }\n",
       "\n",
       "    .dataframe tbody tr th {\n",
       "        vertical-align: top;\n",
       "    }\n",
       "\n",
       "    .dataframe thead th {\n",
       "        text-align: right;\n",
       "    }\n",
       "</style>\n",
       "<table border=\"1\" class=\"dataframe\">\n",
       "  <thead>\n",
       "    <tr style=\"text-align: right;\">\n",
       "      <th></th>\n",
       "      <th>Source</th>\n",
       "      <th>Destination</th>\n",
       "      <th>Route</th>\n",
       "      <th>Duration</th>\n",
       "      <th>Total_Stops</th>\n",
       "      <th>Price</th>\n",
       "      <th>Month</th>\n",
       "      <th>dep_time_hour</th>\n",
       "      <th>dep_time_min</th>\n",
       "      <th>arr_time_hour</th>\n",
       "      <th>arr_time_min</th>\n",
       "    </tr>\n",
       "  </thead>\n",
       "  <tbody>\n",
       "    <tr>\n",
       "      <th>0</th>\n",
       "      <td>Banglore</td>\n",
       "      <td>New Delhi</td>\n",
       "      <td>BLR → DEL</td>\n",
       "      <td>2h 50m</td>\n",
       "      <td>non-stop</td>\n",
       "      <td>3897</td>\n",
       "      <td>3</td>\n",
       "      <td>22</td>\n",
       "      <td>20</td>\n",
       "      <td>1</td>\n",
       "      <td>10</td>\n",
       "    </tr>\n",
       "    <tr>\n",
       "      <th>1</th>\n",
       "      <td>Kolkata</td>\n",
       "      <td>Banglore</td>\n",
       "      <td>CCU → IXR → BBI → BLR</td>\n",
       "      <td>7h 25m</td>\n",
       "      <td>2 stops</td>\n",
       "      <td>7662</td>\n",
       "      <td>1</td>\n",
       "      <td>5</td>\n",
       "      <td>50</td>\n",
       "      <td>13</td>\n",
       "      <td>15</td>\n",
       "    </tr>\n",
       "    <tr>\n",
       "      <th>2</th>\n",
       "      <td>Delhi</td>\n",
       "      <td>Cochin</td>\n",
       "      <td>DEL → LKO → BOM → COK</td>\n",
       "      <td>19h</td>\n",
       "      <td>2 stops</td>\n",
       "      <td>13882</td>\n",
       "      <td>9</td>\n",
       "      <td>9</td>\n",
       "      <td>25</td>\n",
       "      <td>4</td>\n",
       "      <td>25</td>\n",
       "    </tr>\n",
       "    <tr>\n",
       "      <th>3</th>\n",
       "      <td>Kolkata</td>\n",
       "      <td>Banglore</td>\n",
       "      <td>CCU → NAG → BLR</td>\n",
       "      <td>5h 25m</td>\n",
       "      <td>1 stop</td>\n",
       "      <td>6218</td>\n",
       "      <td>12</td>\n",
       "      <td>18</td>\n",
       "      <td>5</td>\n",
       "      <td>23</td>\n",
       "      <td>30</td>\n",
       "    </tr>\n",
       "    <tr>\n",
       "      <th>4</th>\n",
       "      <td>Banglore</td>\n",
       "      <td>New Delhi</td>\n",
       "      <td>BLR → NAG → DEL</td>\n",
       "      <td>4h 45m</td>\n",
       "      <td>1 stop</td>\n",
       "      <td>13302</td>\n",
       "      <td>1</td>\n",
       "      <td>16</td>\n",
       "      <td>50</td>\n",
       "      <td>21</td>\n",
       "      <td>35</td>\n",
       "    </tr>\n",
       "  </tbody>\n",
       "</table>\n",
       "</div>"
      ],
      "text/plain": [
       "     Source Destination                  Route Duration Total_Stops  Price  \\\n",
       "0  Banglore   New Delhi              BLR → DEL   2h 50m    non-stop   3897   \n",
       "1   Kolkata    Banglore  CCU → IXR → BBI → BLR   7h 25m     2 stops   7662   \n",
       "2     Delhi      Cochin  DEL → LKO → BOM → COK      19h     2 stops  13882   \n",
       "3   Kolkata    Banglore        CCU → NAG → BLR   5h 25m      1 stop   6218   \n",
       "4  Banglore   New Delhi        BLR → NAG → DEL   4h 45m      1 stop  13302   \n",
       "\n",
       "   Month  dep_time_hour  dep_time_min  arr_time_hour  arr_time_min  \n",
       "0      3             22            20              1            10  \n",
       "1      1              5            50             13            15  \n",
       "2      9              9            25              4            25  \n",
       "3     12             18             5             23            30  \n",
       "4      1             16            50             21            35  "
      ]
     },
     "execution_count": 30,
     "metadata": {},
     "output_type": "execute_result"
    }
   ],
   "source": [
    "data.drop('Arrival_Time', axis = 1, inplace = True)\n",
    "data.head()"
   ]
  },
  {
   "cell_type": "markdown",
   "id": "2f7c3349",
   "metadata": {},
   "source": [
    "# Duration"
   ]
  },
  {
   "cell_type": "code",
   "execution_count": 31,
   "id": "b397d56a",
   "metadata": {},
   "outputs": [
    {
     "data": {
      "text/plain": [
       "2h 50m     549\n",
       "1h 30m     386\n",
       "2h 45m     337\n",
       "2h 55m     337\n",
       "2h 35m     328\n",
       "          ... \n",
       "30h 10m      1\n",
       "40h 20m      1\n",
       "35h 35m      1\n",
       "47h 40m      1\n",
       "32h 20m      1\n",
       "Name: Duration, Length: 368, dtype: int64"
      ]
     },
     "execution_count": 31,
     "metadata": {},
     "output_type": "execute_result"
    }
   ],
   "source": [
    "data['Duration'].value_counts()"
   ]
  },
  {
   "cell_type": "code",
   "execution_count": 32,
   "id": "f3b9a9d0",
   "metadata": {},
   "outputs": [],
   "source": [
    "# Function to extract the hour from the duration column\n",
    "def extract_hour(col):\n",
    "    str_list = col.split(\" \")\n",
    "    \n",
    "    if len(str_list[0]) == 2:\n",
    "        return int(str_list[0][0])\n",
    "    \n",
    "    else:\n",
    "        return int(str_list[0][:2])"
   ]
  },
  {
   "cell_type": "code",
   "execution_count": 33,
   "id": "fca3bd17",
   "metadata": {},
   "outputs": [
    {
     "data": {
      "text/html": [
       "<div>\n",
       "<style scoped>\n",
       "    .dataframe tbody tr th:only-of-type {\n",
       "        vertical-align: middle;\n",
       "    }\n",
       "\n",
       "    .dataframe tbody tr th {\n",
       "        vertical-align: top;\n",
       "    }\n",
       "\n",
       "    .dataframe thead th {\n",
       "        text-align: right;\n",
       "    }\n",
       "</style>\n",
       "<table border=\"1\" class=\"dataframe\">\n",
       "  <thead>\n",
       "    <tr style=\"text-align: right;\">\n",
       "      <th></th>\n",
       "      <th>Source</th>\n",
       "      <th>Destination</th>\n",
       "      <th>Route</th>\n",
       "      <th>Duration</th>\n",
       "      <th>Total_Stops</th>\n",
       "      <th>Price</th>\n",
       "      <th>Month</th>\n",
       "      <th>dep_time_hour</th>\n",
       "      <th>dep_time_min</th>\n",
       "      <th>arr_time_hour</th>\n",
       "      <th>arr_time_min</th>\n",
       "      <th>Duration_Hour</th>\n",
       "    </tr>\n",
       "  </thead>\n",
       "  <tbody>\n",
       "    <tr>\n",
       "      <th>0</th>\n",
       "      <td>Banglore</td>\n",
       "      <td>New Delhi</td>\n",
       "      <td>BLR → DEL</td>\n",
       "      <td>2h 50m</td>\n",
       "      <td>non-stop</td>\n",
       "      <td>3897</td>\n",
       "      <td>3</td>\n",
       "      <td>22</td>\n",
       "      <td>20</td>\n",
       "      <td>1</td>\n",
       "      <td>10</td>\n",
       "      <td>2</td>\n",
       "    </tr>\n",
       "    <tr>\n",
       "      <th>1</th>\n",
       "      <td>Kolkata</td>\n",
       "      <td>Banglore</td>\n",
       "      <td>CCU → IXR → BBI → BLR</td>\n",
       "      <td>7h 25m</td>\n",
       "      <td>2 stops</td>\n",
       "      <td>7662</td>\n",
       "      <td>1</td>\n",
       "      <td>5</td>\n",
       "      <td>50</td>\n",
       "      <td>13</td>\n",
       "      <td>15</td>\n",
       "      <td>7</td>\n",
       "    </tr>\n",
       "    <tr>\n",
       "      <th>2</th>\n",
       "      <td>Delhi</td>\n",
       "      <td>Cochin</td>\n",
       "      <td>DEL → LKO → BOM → COK</td>\n",
       "      <td>19h</td>\n",
       "      <td>2 stops</td>\n",
       "      <td>13882</td>\n",
       "      <td>9</td>\n",
       "      <td>9</td>\n",
       "      <td>25</td>\n",
       "      <td>4</td>\n",
       "      <td>25</td>\n",
       "      <td>19</td>\n",
       "    </tr>\n",
       "    <tr>\n",
       "      <th>3</th>\n",
       "      <td>Kolkata</td>\n",
       "      <td>Banglore</td>\n",
       "      <td>CCU → NAG → BLR</td>\n",
       "      <td>5h 25m</td>\n",
       "      <td>1 stop</td>\n",
       "      <td>6218</td>\n",
       "      <td>12</td>\n",
       "      <td>18</td>\n",
       "      <td>5</td>\n",
       "      <td>23</td>\n",
       "      <td>30</td>\n",
       "      <td>5</td>\n",
       "    </tr>\n",
       "    <tr>\n",
       "      <th>4</th>\n",
       "      <td>Banglore</td>\n",
       "      <td>New Delhi</td>\n",
       "      <td>BLR → NAG → DEL</td>\n",
       "      <td>4h 45m</td>\n",
       "      <td>1 stop</td>\n",
       "      <td>13302</td>\n",
       "      <td>1</td>\n",
       "      <td>16</td>\n",
       "      <td>50</td>\n",
       "      <td>21</td>\n",
       "      <td>35</td>\n",
       "      <td>4</td>\n",
       "    </tr>\n",
       "  </tbody>\n",
       "</table>\n",
       "</div>"
      ],
      "text/plain": [
       "     Source Destination                  Route Duration Total_Stops  Price  \\\n",
       "0  Banglore   New Delhi              BLR → DEL   2h 50m    non-stop   3897   \n",
       "1   Kolkata    Banglore  CCU → IXR → BBI → BLR   7h 25m     2 stops   7662   \n",
       "2     Delhi      Cochin  DEL → LKO → BOM → COK      19h     2 stops  13882   \n",
       "3   Kolkata    Banglore        CCU → NAG → BLR   5h 25m      1 stop   6218   \n",
       "4  Banglore   New Delhi        BLR → NAG → DEL   4h 45m      1 stop  13302   \n",
       "\n",
       "   Month  dep_time_hour  dep_time_min  arr_time_hour  arr_time_min  \\\n",
       "0      3             22            20              1            10   \n",
       "1      1              5            50             13            15   \n",
       "2      9              9            25              4            25   \n",
       "3     12             18             5             23            30   \n",
       "4      1             16            50             21            35   \n",
       "\n",
       "   Duration_Hour  \n",
       "0              2  \n",
       "1              7  \n",
       "2             19  \n",
       "3              5  \n",
       "4              4  "
      ]
     },
     "execution_count": 33,
     "metadata": {},
     "output_type": "execute_result"
    }
   ],
   "source": [
    "data['Duration_Hour'] = data['Duration'].apply(extract_hour)\n",
    "data.head()"
   ]
  },
  {
   "cell_type": "code",
   "execution_count": 34,
   "id": "511b969c",
   "metadata": {},
   "outputs": [],
   "source": [
    "# Function to extract the minutes from the duration column\n",
    "def extract_min(col):\n",
    "    str_list = col.split(\" \")\n",
    "    \n",
    "    try:\n",
    "        if len(str_list[1]) == 2:\n",
    "            return int(str_list[1][0])\n",
    "\n",
    "        else:\n",
    "            return int(str_list[1][:2])\n",
    "        \n",
    "    except:\n",
    "        return 0"
   ]
  },
  {
   "cell_type": "code",
   "execution_count": 35,
   "id": "e5913aa6",
   "metadata": {},
   "outputs": [
    {
     "data": {
      "text/html": [
       "<div>\n",
       "<style scoped>\n",
       "    .dataframe tbody tr th:only-of-type {\n",
       "        vertical-align: middle;\n",
       "    }\n",
       "\n",
       "    .dataframe tbody tr th {\n",
       "        vertical-align: top;\n",
       "    }\n",
       "\n",
       "    .dataframe thead th {\n",
       "        text-align: right;\n",
       "    }\n",
       "</style>\n",
       "<table border=\"1\" class=\"dataframe\">\n",
       "  <thead>\n",
       "    <tr style=\"text-align: right;\">\n",
       "      <th></th>\n",
       "      <th>Source</th>\n",
       "      <th>Destination</th>\n",
       "      <th>Route</th>\n",
       "      <th>Duration</th>\n",
       "      <th>Total_Stops</th>\n",
       "      <th>Price</th>\n",
       "      <th>Month</th>\n",
       "      <th>dep_time_hour</th>\n",
       "      <th>dep_time_min</th>\n",
       "      <th>arr_time_hour</th>\n",
       "      <th>arr_time_min</th>\n",
       "      <th>Duration_Hour</th>\n",
       "      <th>Duration_Min</th>\n",
       "    </tr>\n",
       "  </thead>\n",
       "  <tbody>\n",
       "    <tr>\n",
       "      <th>0</th>\n",
       "      <td>Banglore</td>\n",
       "      <td>New Delhi</td>\n",
       "      <td>BLR → DEL</td>\n",
       "      <td>2h 50m</td>\n",
       "      <td>non-stop</td>\n",
       "      <td>3897</td>\n",
       "      <td>3</td>\n",
       "      <td>22</td>\n",
       "      <td>20</td>\n",
       "      <td>1</td>\n",
       "      <td>10</td>\n",
       "      <td>2</td>\n",
       "      <td>50</td>\n",
       "    </tr>\n",
       "    <tr>\n",
       "      <th>1</th>\n",
       "      <td>Kolkata</td>\n",
       "      <td>Banglore</td>\n",
       "      <td>CCU → IXR → BBI → BLR</td>\n",
       "      <td>7h 25m</td>\n",
       "      <td>2 stops</td>\n",
       "      <td>7662</td>\n",
       "      <td>1</td>\n",
       "      <td>5</td>\n",
       "      <td>50</td>\n",
       "      <td>13</td>\n",
       "      <td>15</td>\n",
       "      <td>7</td>\n",
       "      <td>25</td>\n",
       "    </tr>\n",
       "    <tr>\n",
       "      <th>2</th>\n",
       "      <td>Delhi</td>\n",
       "      <td>Cochin</td>\n",
       "      <td>DEL → LKO → BOM → COK</td>\n",
       "      <td>19h</td>\n",
       "      <td>2 stops</td>\n",
       "      <td>13882</td>\n",
       "      <td>9</td>\n",
       "      <td>9</td>\n",
       "      <td>25</td>\n",
       "      <td>4</td>\n",
       "      <td>25</td>\n",
       "      <td>19</td>\n",
       "      <td>0</td>\n",
       "    </tr>\n",
       "    <tr>\n",
       "      <th>3</th>\n",
       "      <td>Kolkata</td>\n",
       "      <td>Banglore</td>\n",
       "      <td>CCU → NAG → BLR</td>\n",
       "      <td>5h 25m</td>\n",
       "      <td>1 stop</td>\n",
       "      <td>6218</td>\n",
       "      <td>12</td>\n",
       "      <td>18</td>\n",
       "      <td>5</td>\n",
       "      <td>23</td>\n",
       "      <td>30</td>\n",
       "      <td>5</td>\n",
       "      <td>25</td>\n",
       "    </tr>\n",
       "    <tr>\n",
       "      <th>4</th>\n",
       "      <td>Banglore</td>\n",
       "      <td>New Delhi</td>\n",
       "      <td>BLR → NAG → DEL</td>\n",
       "      <td>4h 45m</td>\n",
       "      <td>1 stop</td>\n",
       "      <td>13302</td>\n",
       "      <td>1</td>\n",
       "      <td>16</td>\n",
       "      <td>50</td>\n",
       "      <td>21</td>\n",
       "      <td>35</td>\n",
       "      <td>4</td>\n",
       "      <td>45</td>\n",
       "    </tr>\n",
       "  </tbody>\n",
       "</table>\n",
       "</div>"
      ],
      "text/plain": [
       "     Source Destination                  Route Duration Total_Stops  Price  \\\n",
       "0  Banglore   New Delhi              BLR → DEL   2h 50m    non-stop   3897   \n",
       "1   Kolkata    Banglore  CCU → IXR → BBI → BLR   7h 25m     2 stops   7662   \n",
       "2     Delhi      Cochin  DEL → LKO → BOM → COK      19h     2 stops  13882   \n",
       "3   Kolkata    Banglore        CCU → NAG → BLR   5h 25m      1 stop   6218   \n",
       "4  Banglore   New Delhi        BLR → NAG → DEL   4h 45m      1 stop  13302   \n",
       "\n",
       "   Month  dep_time_hour  dep_time_min  arr_time_hour  arr_time_min  \\\n",
       "0      3             22            20              1            10   \n",
       "1      1              5            50             13            15   \n",
       "2      9              9            25              4            25   \n",
       "3     12             18             5             23            30   \n",
       "4      1             16            50             21            35   \n",
       "\n",
       "   Duration_Hour  Duration_Min  \n",
       "0              2            50  \n",
       "1              7            25  \n",
       "2             19             0  \n",
       "3              5            25  \n",
       "4              4            45  "
      ]
     },
     "execution_count": 35,
     "metadata": {},
     "output_type": "execute_result"
    }
   ],
   "source": [
    "data['Duration_Min'] = data['Duration'].apply(extract_min)\n",
    "data.head()"
   ]
  },
  {
   "cell_type": "code",
   "execution_count": 36,
   "id": "08884d5e",
   "metadata": {},
   "outputs": [
    {
     "data": {
      "text/html": [
       "<div>\n",
       "<style scoped>\n",
       "    .dataframe tbody tr th:only-of-type {\n",
       "        vertical-align: middle;\n",
       "    }\n",
       "\n",
       "    .dataframe tbody tr th {\n",
       "        vertical-align: top;\n",
       "    }\n",
       "\n",
       "    .dataframe thead th {\n",
       "        text-align: right;\n",
       "    }\n",
       "</style>\n",
       "<table border=\"1\" class=\"dataframe\">\n",
       "  <thead>\n",
       "    <tr style=\"text-align: right;\">\n",
       "      <th></th>\n",
       "      <th>Source</th>\n",
       "      <th>Destination</th>\n",
       "      <th>Route</th>\n",
       "      <th>Total_Stops</th>\n",
       "      <th>Price</th>\n",
       "      <th>Month</th>\n",
       "      <th>dep_time_hour</th>\n",
       "      <th>dep_time_min</th>\n",
       "      <th>arr_time_hour</th>\n",
       "      <th>arr_time_min</th>\n",
       "      <th>Duration_Hour</th>\n",
       "      <th>Duration_Min</th>\n",
       "    </tr>\n",
       "  </thead>\n",
       "  <tbody>\n",
       "    <tr>\n",
       "      <th>0</th>\n",
       "      <td>Banglore</td>\n",
       "      <td>New Delhi</td>\n",
       "      <td>BLR → DEL</td>\n",
       "      <td>non-stop</td>\n",
       "      <td>3897</td>\n",
       "      <td>3</td>\n",
       "      <td>22</td>\n",
       "      <td>20</td>\n",
       "      <td>1</td>\n",
       "      <td>10</td>\n",
       "      <td>2</td>\n",
       "      <td>50</td>\n",
       "    </tr>\n",
       "    <tr>\n",
       "      <th>1</th>\n",
       "      <td>Kolkata</td>\n",
       "      <td>Banglore</td>\n",
       "      <td>CCU → IXR → BBI → BLR</td>\n",
       "      <td>2 stops</td>\n",
       "      <td>7662</td>\n",
       "      <td>1</td>\n",
       "      <td>5</td>\n",
       "      <td>50</td>\n",
       "      <td>13</td>\n",
       "      <td>15</td>\n",
       "      <td>7</td>\n",
       "      <td>25</td>\n",
       "    </tr>\n",
       "    <tr>\n",
       "      <th>2</th>\n",
       "      <td>Delhi</td>\n",
       "      <td>Cochin</td>\n",
       "      <td>DEL → LKO → BOM → COK</td>\n",
       "      <td>2 stops</td>\n",
       "      <td>13882</td>\n",
       "      <td>9</td>\n",
       "      <td>9</td>\n",
       "      <td>25</td>\n",
       "      <td>4</td>\n",
       "      <td>25</td>\n",
       "      <td>19</td>\n",
       "      <td>0</td>\n",
       "    </tr>\n",
       "    <tr>\n",
       "      <th>3</th>\n",
       "      <td>Kolkata</td>\n",
       "      <td>Banglore</td>\n",
       "      <td>CCU → NAG → BLR</td>\n",
       "      <td>1 stop</td>\n",
       "      <td>6218</td>\n",
       "      <td>12</td>\n",
       "      <td>18</td>\n",
       "      <td>5</td>\n",
       "      <td>23</td>\n",
       "      <td>30</td>\n",
       "      <td>5</td>\n",
       "      <td>25</td>\n",
       "    </tr>\n",
       "    <tr>\n",
       "      <th>4</th>\n",
       "      <td>Banglore</td>\n",
       "      <td>New Delhi</td>\n",
       "      <td>BLR → NAG → DEL</td>\n",
       "      <td>1 stop</td>\n",
       "      <td>13302</td>\n",
       "      <td>1</td>\n",
       "      <td>16</td>\n",
       "      <td>50</td>\n",
       "      <td>21</td>\n",
       "      <td>35</td>\n",
       "      <td>4</td>\n",
       "      <td>45</td>\n",
       "    </tr>\n",
       "  </tbody>\n",
       "</table>\n",
       "</div>"
      ],
      "text/plain": [
       "     Source Destination                  Route Total_Stops  Price  Month  \\\n",
       "0  Banglore   New Delhi              BLR → DEL    non-stop   3897      3   \n",
       "1   Kolkata    Banglore  CCU → IXR → BBI → BLR     2 stops   7662      1   \n",
       "2     Delhi      Cochin  DEL → LKO → BOM → COK     2 stops  13882      9   \n",
       "3   Kolkata    Banglore        CCU → NAG → BLR      1 stop   6218     12   \n",
       "4  Banglore   New Delhi        BLR → NAG → DEL      1 stop  13302      1   \n",
       "\n",
       "   dep_time_hour  dep_time_min  arr_time_hour  arr_time_min  Duration_Hour  \\\n",
       "0             22            20              1            10              2   \n",
       "1              5            50             13            15              7   \n",
       "2              9            25              4            25             19   \n",
       "3             18             5             23            30              5   \n",
       "4             16            50             21            35              4   \n",
       "\n",
       "   Duration_Min  \n",
       "0            50  \n",
       "1            25  \n",
       "2             0  \n",
       "3            25  \n",
       "4            45  "
      ]
     },
     "execution_count": 36,
     "metadata": {},
     "output_type": "execute_result"
    }
   ],
   "source": [
    "data.drop('Duration', axis = 1, inplace = True)\n",
    "data.head()"
   ]
  },
  {
   "cell_type": "markdown",
   "id": "88286dbe",
   "metadata": {},
   "source": [
    "# Total_Stops Column"
   ]
  },
  {
   "cell_type": "code",
   "execution_count": 37,
   "id": "1f505f72",
   "metadata": {},
   "outputs": [
    {
     "data": {
      "text/plain": [
       "1 stop      5604\n",
       "non-stop    3488\n",
       "2 stops     1518\n",
       "3 stops       45\n",
       "4 stops        1\n",
       "Name: Total_Stops, dtype: int64"
      ]
     },
     "execution_count": 37,
     "metadata": {},
     "output_type": "execute_result"
    }
   ],
   "source": [
    "data['Total_Stops'].value_counts()"
   ]
  },
  {
   "cell_type": "code",
   "execution_count": 38,
   "id": "e4640805",
   "metadata": {},
   "outputs": [],
   "source": [
    "# Define a function to convert no of stops to equal number of integer values\n",
    "def flight_stop(col):\n",
    "    if col == 'non-stop':\n",
    "        return 0\n",
    "    \n",
    "    elif col == '1 stop':\n",
    "        return 1\n",
    "    \n",
    "    elif col == '2 stops':\n",
    "        return 2\n",
    "    \n",
    "    elif col == '3 stops':\n",
    "        return 3\n",
    "    \n",
    "    else:\n",
    "        return 4"
   ]
  },
  {
   "cell_type": "code",
   "execution_count": 39,
   "id": "f1f56aa1",
   "metadata": {},
   "outputs": [
    {
     "data": {
      "text/html": [
       "<div>\n",
       "<style scoped>\n",
       "    .dataframe tbody tr th:only-of-type {\n",
       "        vertical-align: middle;\n",
       "    }\n",
       "\n",
       "    .dataframe tbody tr th {\n",
       "        vertical-align: top;\n",
       "    }\n",
       "\n",
       "    .dataframe thead th {\n",
       "        text-align: right;\n",
       "    }\n",
       "</style>\n",
       "<table border=\"1\" class=\"dataframe\">\n",
       "  <thead>\n",
       "    <tr style=\"text-align: right;\">\n",
       "      <th></th>\n",
       "      <th>Source</th>\n",
       "      <th>Destination</th>\n",
       "      <th>Route</th>\n",
       "      <th>Total_Stops</th>\n",
       "      <th>Price</th>\n",
       "      <th>Month</th>\n",
       "      <th>dep_time_hour</th>\n",
       "      <th>dep_time_min</th>\n",
       "      <th>arr_time_hour</th>\n",
       "      <th>arr_time_min</th>\n",
       "      <th>Duration_Hour</th>\n",
       "      <th>Duration_Min</th>\n",
       "    </tr>\n",
       "  </thead>\n",
       "  <tbody>\n",
       "    <tr>\n",
       "      <th>0</th>\n",
       "      <td>Banglore</td>\n",
       "      <td>New Delhi</td>\n",
       "      <td>BLR → DEL</td>\n",
       "      <td>0</td>\n",
       "      <td>3897</td>\n",
       "      <td>3</td>\n",
       "      <td>22</td>\n",
       "      <td>20</td>\n",
       "      <td>1</td>\n",
       "      <td>10</td>\n",
       "      <td>2</td>\n",
       "      <td>50</td>\n",
       "    </tr>\n",
       "    <tr>\n",
       "      <th>1</th>\n",
       "      <td>Kolkata</td>\n",
       "      <td>Banglore</td>\n",
       "      <td>CCU → IXR → BBI → BLR</td>\n",
       "      <td>2</td>\n",
       "      <td>7662</td>\n",
       "      <td>1</td>\n",
       "      <td>5</td>\n",
       "      <td>50</td>\n",
       "      <td>13</td>\n",
       "      <td>15</td>\n",
       "      <td>7</td>\n",
       "      <td>25</td>\n",
       "    </tr>\n",
       "    <tr>\n",
       "      <th>2</th>\n",
       "      <td>Delhi</td>\n",
       "      <td>Cochin</td>\n",
       "      <td>DEL → LKO → BOM → COK</td>\n",
       "      <td>2</td>\n",
       "      <td>13882</td>\n",
       "      <td>9</td>\n",
       "      <td>9</td>\n",
       "      <td>25</td>\n",
       "      <td>4</td>\n",
       "      <td>25</td>\n",
       "      <td>19</td>\n",
       "      <td>0</td>\n",
       "    </tr>\n",
       "    <tr>\n",
       "      <th>3</th>\n",
       "      <td>Kolkata</td>\n",
       "      <td>Banglore</td>\n",
       "      <td>CCU → NAG → BLR</td>\n",
       "      <td>1</td>\n",
       "      <td>6218</td>\n",
       "      <td>12</td>\n",
       "      <td>18</td>\n",
       "      <td>5</td>\n",
       "      <td>23</td>\n",
       "      <td>30</td>\n",
       "      <td>5</td>\n",
       "      <td>25</td>\n",
       "    </tr>\n",
       "    <tr>\n",
       "      <th>4</th>\n",
       "      <td>Banglore</td>\n",
       "      <td>New Delhi</td>\n",
       "      <td>BLR → NAG → DEL</td>\n",
       "      <td>1</td>\n",
       "      <td>13302</td>\n",
       "      <td>1</td>\n",
       "      <td>16</td>\n",
       "      <td>50</td>\n",
       "      <td>21</td>\n",
       "      <td>35</td>\n",
       "      <td>4</td>\n",
       "      <td>45</td>\n",
       "    </tr>\n",
       "  </tbody>\n",
       "</table>\n",
       "</div>"
      ],
      "text/plain": [
       "     Source Destination                  Route  Total_Stops  Price  Month  \\\n",
       "0  Banglore   New Delhi              BLR → DEL            0   3897      3   \n",
       "1   Kolkata    Banglore  CCU → IXR → BBI → BLR            2   7662      1   \n",
       "2     Delhi      Cochin  DEL → LKO → BOM → COK            2  13882      9   \n",
       "3   Kolkata    Banglore        CCU → NAG → BLR            1   6218     12   \n",
       "4  Banglore   New Delhi        BLR → NAG → DEL            1  13302      1   \n",
       "\n",
       "   dep_time_hour  dep_time_min  arr_time_hour  arr_time_min  Duration_Hour  \\\n",
       "0             22            20              1            10              2   \n",
       "1              5            50             13            15              7   \n",
       "2              9            25              4            25             19   \n",
       "3             18             5             23            30              5   \n",
       "4             16            50             21            35              4   \n",
       "\n",
       "   Duration_Min  \n",
       "0            50  \n",
       "1            25  \n",
       "2             0  \n",
       "3            25  \n",
       "4            45  "
      ]
     },
     "execution_count": 39,
     "metadata": {},
     "output_type": "execute_result"
    }
   ],
   "source": [
    "data['Total_Stops'] = data['Total_Stops'].apply(flight_stop)\n",
    "data.head()"
   ]
  },
  {
   "cell_type": "markdown",
   "id": "0c720c41",
   "metadata": {},
   "source": [
    "# Route"
   ]
  },
  {
   "cell_type": "code",
   "execution_count": 40,
   "id": "7c56c458",
   "metadata": {},
   "outputs": [
    {
     "data": {
      "text/plain": [
       "DEL → BOM → COK          2363\n",
       "BLR → DEL                1550\n",
       "CCU → BOM → BLR           979\n",
       "CCU → BLR                 724\n",
       "BOM → HYD                 621\n",
       "                         ... \n",
       "BOM → JLR → HYD             1\n",
       "BOM → UDR → DEL → HYD       1\n",
       "BOM → GOI → HYD             1\n",
       "CCU → IXB → DEL → BLR       1\n",
       "CCU → IXA → BLR             1\n",
       "Name: Route, Length: 127, dtype: int64"
      ]
     },
     "execution_count": 40,
     "metadata": {},
     "output_type": "execute_result"
    }
   ],
   "source": [
    "data['Route'].value_counts()"
   ]
  },
  {
   "cell_type": "code",
   "execution_count": 41,
   "id": "ae1fa662",
   "metadata": {},
   "outputs": [],
   "source": [
    "# Convert the flight route into corresponding columns\n",
    "data['Route_1'] = data['Route'].str.split('→').str[0]\n",
    "data['Route_2'] = data['Route'].str.split('→').str[1]\n",
    "data['Route_3'] = data['Route'].str.split('→').str[2]\n",
    "data['Route_4'] = data['Route'].str.split('→').str[3]\n",
    "data['Route_5'] = data['Route'].str.split('→').str[4]"
   ]
  },
  {
   "cell_type": "code",
   "execution_count": 42,
   "id": "49ecab7d",
   "metadata": {},
   "outputs": [
    {
     "name": "stdout",
     "output_type": "stream",
     "text": [
      "<class 'pandas.core.frame.DataFrame'>\n",
      "Int64Index: 10656 entries, 0 to 10682\n",
      "Data columns (total 16 columns):\n",
      " #   Column         Non-Null Count  Dtype \n",
      "---  ------         --------------  ----- \n",
      " 0   Source         10656 non-null  object\n",
      " 1   Destination    10656 non-null  object\n",
      " 2   Total_Stops    10656 non-null  int64 \n",
      " 3   Price          10656 non-null  object\n",
      " 4   Month          10656 non-null  int64 \n",
      " 5   dep_time_hour  10656 non-null  int64 \n",
      " 6   dep_time_min   10656 non-null  int64 \n",
      " 7   arr_time_hour  10656 non-null  int64 \n",
      " 8   arr_time_min   10656 non-null  int64 \n",
      " 9   Duration_Hour  10656 non-null  int64 \n",
      " 10  Duration_Min   10656 non-null  int64 \n",
      " 11  Route_1        10656 non-null  object\n",
      " 12  Route_2        10656 non-null  object\n",
      " 13  Route_3        7168 non-null   object\n",
      " 14  Route_4        1564 non-null   object\n",
      " 15  Route_5        46 non-null     object\n",
      "dtypes: int64(8), object(8)\n",
      "memory usage: 1.6+ MB\n"
     ]
    }
   ],
   "source": [
    "data.drop('Route', axis = 1, inplace = True)\n",
    "data.info()"
   ]
  },
  {
   "cell_type": "code",
   "execution_count": 43,
   "id": "2af6d86d",
   "metadata": {},
   "outputs": [],
   "source": [
    "# Fill the null values in the Routes columns with 'None'\n",
    "for i in ['Route_3', 'Route_4', 'Route_5']:\n",
    "    data[i].fillna('None', inplace = True)"
   ]
  },
  {
   "cell_type": "code",
   "execution_count": 44,
   "id": "8c67b2a6",
   "metadata": {},
   "outputs": [],
   "source": [
    "from sklearn.preprocessing import LabelEncoder"
   ]
  },
  {
   "cell_type": "code",
   "execution_count": 45,
   "id": "ce778bfb",
   "metadata": {},
   "outputs": [],
   "source": [
    "le = LabelEncoder()\n",
    "for i in ['Route_1', 'Route_2', 'Route_3', 'Route_4', 'Route_5']:\n",
    "    data[i] = le.fit_transform(data[i])"
   ]
  },
  {
   "cell_type": "code",
   "execution_count": 46,
   "id": "61682bbc",
   "metadata": {},
   "outputs": [
    {
     "data": {
      "text/html": [
       "<div>\n",
       "<style scoped>\n",
       "    .dataframe tbody tr th:only-of-type {\n",
       "        vertical-align: middle;\n",
       "    }\n",
       "\n",
       "    .dataframe tbody tr th {\n",
       "        vertical-align: top;\n",
       "    }\n",
       "\n",
       "    .dataframe thead th {\n",
       "        text-align: right;\n",
       "    }\n",
       "</style>\n",
       "<table border=\"1\" class=\"dataframe\">\n",
       "  <thead>\n",
       "    <tr style=\"text-align: right;\">\n",
       "      <th></th>\n",
       "      <th>Source</th>\n",
       "      <th>Destination</th>\n",
       "      <th>Total_Stops</th>\n",
       "      <th>Price</th>\n",
       "      <th>Month</th>\n",
       "      <th>dep_time_hour</th>\n",
       "      <th>dep_time_min</th>\n",
       "      <th>arr_time_hour</th>\n",
       "      <th>arr_time_min</th>\n",
       "      <th>Duration_Hour</th>\n",
       "      <th>Duration_Min</th>\n",
       "      <th>Route_1</th>\n",
       "      <th>Route_2</th>\n",
       "      <th>Route_3</th>\n",
       "      <th>Route_4</th>\n",
       "      <th>Route_5</th>\n",
       "    </tr>\n",
       "  </thead>\n",
       "  <tbody>\n",
       "    <tr>\n",
       "      <th>0</th>\n",
       "      <td>Banglore</td>\n",
       "      <td>New Delhi</td>\n",
       "      <td>0</td>\n",
       "      <td>3897</td>\n",
       "      <td>3</td>\n",
       "      <td>22</td>\n",
       "      <td>20</td>\n",
       "      <td>1</td>\n",
       "      <td>10</td>\n",
       "      <td>2</td>\n",
       "      <td>50</td>\n",
       "      <td>0</td>\n",
       "      <td>13</td>\n",
       "      <td>29</td>\n",
       "      <td>13</td>\n",
       "      <td>5</td>\n",
       "    </tr>\n",
       "    <tr>\n",
       "      <th>1</th>\n",
       "      <td>Kolkata</td>\n",
       "      <td>Banglore</td>\n",
       "      <td>2</td>\n",
       "      <td>7662</td>\n",
       "      <td>1</td>\n",
       "      <td>5</td>\n",
       "      <td>50</td>\n",
       "      <td>13</td>\n",
       "      <td>15</td>\n",
       "      <td>7</td>\n",
       "      <td>25</td>\n",
       "      <td>2</td>\n",
       "      <td>25</td>\n",
       "      <td>1</td>\n",
       "      <td>3</td>\n",
       "      <td>5</td>\n",
       "    </tr>\n",
       "    <tr>\n",
       "      <th>2</th>\n",
       "      <td>Delhi</td>\n",
       "      <td>Cochin</td>\n",
       "      <td>2</td>\n",
       "      <td>13882</td>\n",
       "      <td>9</td>\n",
       "      <td>9</td>\n",
       "      <td>25</td>\n",
       "      <td>4</td>\n",
       "      <td>25</td>\n",
       "      <td>19</td>\n",
       "      <td>0</td>\n",
       "      <td>3</td>\n",
       "      <td>32</td>\n",
       "      <td>4</td>\n",
       "      <td>5</td>\n",
       "      <td>5</td>\n",
       "    </tr>\n",
       "    <tr>\n",
       "      <th>3</th>\n",
       "      <td>Kolkata</td>\n",
       "      <td>Banglore</td>\n",
       "      <td>1</td>\n",
       "      <td>6218</td>\n",
       "      <td>12</td>\n",
       "      <td>18</td>\n",
       "      <td>5</td>\n",
       "      <td>23</td>\n",
       "      <td>30</td>\n",
       "      <td>5</td>\n",
       "      <td>25</td>\n",
       "      <td>2</td>\n",
       "      <td>34</td>\n",
       "      <td>3</td>\n",
       "      <td>13</td>\n",
       "      <td>5</td>\n",
       "    </tr>\n",
       "    <tr>\n",
       "      <th>4</th>\n",
       "      <td>Banglore</td>\n",
       "      <td>New Delhi</td>\n",
       "      <td>1</td>\n",
       "      <td>13302</td>\n",
       "      <td>1</td>\n",
       "      <td>16</td>\n",
       "      <td>50</td>\n",
       "      <td>21</td>\n",
       "      <td>35</td>\n",
       "      <td>4</td>\n",
       "      <td>45</td>\n",
       "      <td>0</td>\n",
       "      <td>34</td>\n",
       "      <td>8</td>\n",
       "      <td>13</td>\n",
       "      <td>5</td>\n",
       "    </tr>\n",
       "  </tbody>\n",
       "</table>\n",
       "</div>"
      ],
      "text/plain": [
       "     Source Destination  Total_Stops  Price  Month  dep_time_hour  \\\n",
       "0  Banglore   New Delhi            0   3897      3             22   \n",
       "1   Kolkata    Banglore            2   7662      1              5   \n",
       "2     Delhi      Cochin            2  13882      9              9   \n",
       "3   Kolkata    Banglore            1   6218     12             18   \n",
       "4  Banglore   New Delhi            1  13302      1             16   \n",
       "\n",
       "   dep_time_min  arr_time_hour  arr_time_min  Duration_Hour  Duration_Min  \\\n",
       "0            20              1            10              2            50   \n",
       "1            50             13            15              7            25   \n",
       "2            25              4            25             19             0   \n",
       "3             5             23            30              5            25   \n",
       "4            50             21            35              4            45   \n",
       "\n",
       "   Route_1  Route_2  Route_3  Route_4  Route_5  \n",
       "0        0       13       29       13        5  \n",
       "1        2       25        1        3        5  \n",
       "2        3       32        4        5        5  \n",
       "3        2       34        3       13        5  \n",
       "4        0       34        8       13        5  "
      ]
     },
     "execution_count": 46,
     "metadata": {},
     "output_type": "execute_result"
    }
   ],
   "source": [
    "data.head()"
   ]
  },
  {
   "cell_type": "markdown",
   "id": "f7df34fe",
   "metadata": {},
   "source": [
    "# Source Column"
   ]
  },
  {
   "cell_type": "code",
   "execution_count": 47,
   "id": "20412e39",
   "metadata": {},
   "outputs": [
    {
     "data": {
      "text/plain": [
       "Delhi       4521\n",
       "Kolkata     2871\n",
       "Banglore    2188\n",
       "Mumbai       696\n",
       "Chennai      380\n",
       "Name: Source, dtype: int64"
      ]
     },
     "execution_count": 47,
     "metadata": {},
     "output_type": "execute_result"
    }
   ],
   "source": [
    "data['Source'].value_counts()"
   ]
  },
  {
   "cell_type": "code",
   "execution_count": 48,
   "id": "e297b4ca",
   "metadata": {},
   "outputs": [
    {
     "data": {
      "text/html": [
       "<div>\n",
       "<style scoped>\n",
       "    .dataframe tbody tr th:only-of-type {\n",
       "        vertical-align: middle;\n",
       "    }\n",
       "\n",
       "    .dataframe tbody tr th {\n",
       "        vertical-align: top;\n",
       "    }\n",
       "\n",
       "    .dataframe thead th {\n",
       "        text-align: right;\n",
       "    }\n",
       "</style>\n",
       "<table border=\"1\" class=\"dataframe\">\n",
       "  <thead>\n",
       "    <tr style=\"text-align: right;\">\n",
       "      <th></th>\n",
       "      <th>source_Chennai</th>\n",
       "      <th>source_Delhi</th>\n",
       "      <th>source_Kolkata</th>\n",
       "      <th>source_Mumbai</th>\n",
       "    </tr>\n",
       "  </thead>\n",
       "  <tbody>\n",
       "    <tr>\n",
       "      <th>0</th>\n",
       "      <td>0</td>\n",
       "      <td>0</td>\n",
       "      <td>0</td>\n",
       "      <td>0</td>\n",
       "    </tr>\n",
       "    <tr>\n",
       "      <th>1</th>\n",
       "      <td>0</td>\n",
       "      <td>0</td>\n",
       "      <td>1</td>\n",
       "      <td>0</td>\n",
       "    </tr>\n",
       "    <tr>\n",
       "      <th>2</th>\n",
       "      <td>0</td>\n",
       "      <td>1</td>\n",
       "      <td>0</td>\n",
       "      <td>0</td>\n",
       "    </tr>\n",
       "    <tr>\n",
       "      <th>3</th>\n",
       "      <td>0</td>\n",
       "      <td>0</td>\n",
       "      <td>1</td>\n",
       "      <td>0</td>\n",
       "    </tr>\n",
       "    <tr>\n",
       "      <th>4</th>\n",
       "      <td>0</td>\n",
       "      <td>0</td>\n",
       "      <td>0</td>\n",
       "      <td>0</td>\n",
       "    </tr>\n",
       "    <tr>\n",
       "      <th>...</th>\n",
       "      <td>...</td>\n",
       "      <td>...</td>\n",
       "      <td>...</td>\n",
       "      <td>...</td>\n",
       "    </tr>\n",
       "    <tr>\n",
       "      <th>10678</th>\n",
       "      <td>0</td>\n",
       "      <td>0</td>\n",
       "      <td>1</td>\n",
       "      <td>0</td>\n",
       "    </tr>\n",
       "    <tr>\n",
       "      <th>10679</th>\n",
       "      <td>0</td>\n",
       "      <td>0</td>\n",
       "      <td>1</td>\n",
       "      <td>0</td>\n",
       "    </tr>\n",
       "    <tr>\n",
       "      <th>10680</th>\n",
       "      <td>0</td>\n",
       "      <td>0</td>\n",
       "      <td>0</td>\n",
       "      <td>0</td>\n",
       "    </tr>\n",
       "    <tr>\n",
       "      <th>10681</th>\n",
       "      <td>0</td>\n",
       "      <td>0</td>\n",
       "      <td>0</td>\n",
       "      <td>0</td>\n",
       "    </tr>\n",
       "    <tr>\n",
       "      <th>10682</th>\n",
       "      <td>0</td>\n",
       "      <td>1</td>\n",
       "      <td>0</td>\n",
       "      <td>0</td>\n",
       "    </tr>\n",
       "  </tbody>\n",
       "</table>\n",
       "<p>10656 rows × 4 columns</p>\n",
       "</div>"
      ],
      "text/plain": [
       "       source_Chennai  source_Delhi  source_Kolkata  source_Mumbai\n",
       "0                   0             0               0              0\n",
       "1                   0             0               1              0\n",
       "2                   0             1               0              0\n",
       "3                   0             0               1              0\n",
       "4                   0             0               0              0\n",
       "...               ...           ...             ...            ...\n",
       "10678               0             0               1              0\n",
       "10679               0             0               1              0\n",
       "10680               0             0               0              0\n",
       "10681               0             0               0              0\n",
       "10682               0             1               0              0\n",
       "\n",
       "[10656 rows x 4 columns]"
      ]
     },
     "execution_count": 48,
     "metadata": {},
     "output_type": "execute_result"
    }
   ],
   "source": [
    "# Create dummy variables\n",
    "source_dummies = pd.get_dummies(data['Source'], prefix = 'source', drop_first=True)\n",
    "source_dummies"
   ]
  },
  {
   "cell_type": "code",
   "execution_count": 49,
   "id": "da987344",
   "metadata": {},
   "outputs": [],
   "source": [
    "data.drop('Source', axis = 1, inplace = True)"
   ]
  },
  {
   "cell_type": "markdown",
   "id": "7375cf60",
   "metadata": {},
   "source": [
    "# Destination Column"
   ]
  },
  {
   "cell_type": "code",
   "execution_count": 50,
   "id": "d5c0a988",
   "metadata": {},
   "outputs": [
    {
     "data": {
      "text/plain": [
       "Cochin       4521\n",
       "Banglore     2871\n",
       "Delhi        1264\n",
       "New Delhi     924\n",
       "Hyderabad     696\n",
       "Kolkata       380\n",
       "Name: Destination, dtype: int64"
      ]
     },
     "execution_count": 50,
     "metadata": {},
     "output_type": "execute_result"
    }
   ],
   "source": [
    "data['Destination'].value_counts()"
   ]
  },
  {
   "cell_type": "code",
   "execution_count": 51,
   "id": "8af75c39",
   "metadata": {},
   "outputs": [
    {
     "data": {
      "text/html": [
       "<div>\n",
       "<style scoped>\n",
       "    .dataframe tbody tr th:only-of-type {\n",
       "        vertical-align: middle;\n",
       "    }\n",
       "\n",
       "    .dataframe tbody tr th {\n",
       "        vertical-align: top;\n",
       "    }\n",
       "\n",
       "    .dataframe thead th {\n",
       "        text-align: right;\n",
       "    }\n",
       "</style>\n",
       "<table border=\"1\" class=\"dataframe\">\n",
       "  <thead>\n",
       "    <tr style=\"text-align: right;\">\n",
       "      <th></th>\n",
       "      <th>des_Cochin</th>\n",
       "      <th>des_Delhi</th>\n",
       "      <th>des_Hyderabad</th>\n",
       "      <th>des_Kolkata</th>\n",
       "      <th>des_New Delhi</th>\n",
       "    </tr>\n",
       "  </thead>\n",
       "  <tbody>\n",
       "    <tr>\n",
       "      <th>0</th>\n",
       "      <td>0</td>\n",
       "      <td>0</td>\n",
       "      <td>0</td>\n",
       "      <td>0</td>\n",
       "      <td>1</td>\n",
       "    </tr>\n",
       "    <tr>\n",
       "      <th>1</th>\n",
       "      <td>0</td>\n",
       "      <td>0</td>\n",
       "      <td>0</td>\n",
       "      <td>0</td>\n",
       "      <td>0</td>\n",
       "    </tr>\n",
       "    <tr>\n",
       "      <th>2</th>\n",
       "      <td>1</td>\n",
       "      <td>0</td>\n",
       "      <td>0</td>\n",
       "      <td>0</td>\n",
       "      <td>0</td>\n",
       "    </tr>\n",
       "    <tr>\n",
       "      <th>3</th>\n",
       "      <td>0</td>\n",
       "      <td>0</td>\n",
       "      <td>0</td>\n",
       "      <td>0</td>\n",
       "      <td>0</td>\n",
       "    </tr>\n",
       "    <tr>\n",
       "      <th>4</th>\n",
       "      <td>0</td>\n",
       "      <td>0</td>\n",
       "      <td>0</td>\n",
       "      <td>0</td>\n",
       "      <td>1</td>\n",
       "    </tr>\n",
       "    <tr>\n",
       "      <th>...</th>\n",
       "      <td>...</td>\n",
       "      <td>...</td>\n",
       "      <td>...</td>\n",
       "      <td>...</td>\n",
       "      <td>...</td>\n",
       "    </tr>\n",
       "    <tr>\n",
       "      <th>10678</th>\n",
       "      <td>0</td>\n",
       "      <td>0</td>\n",
       "      <td>0</td>\n",
       "      <td>0</td>\n",
       "      <td>0</td>\n",
       "    </tr>\n",
       "    <tr>\n",
       "      <th>10679</th>\n",
       "      <td>0</td>\n",
       "      <td>0</td>\n",
       "      <td>0</td>\n",
       "      <td>0</td>\n",
       "      <td>0</td>\n",
       "    </tr>\n",
       "    <tr>\n",
       "      <th>10680</th>\n",
       "      <td>0</td>\n",
       "      <td>1</td>\n",
       "      <td>0</td>\n",
       "      <td>0</td>\n",
       "      <td>0</td>\n",
       "    </tr>\n",
       "    <tr>\n",
       "      <th>10681</th>\n",
       "      <td>0</td>\n",
       "      <td>0</td>\n",
       "      <td>0</td>\n",
       "      <td>0</td>\n",
       "      <td>1</td>\n",
       "    </tr>\n",
       "    <tr>\n",
       "      <th>10682</th>\n",
       "      <td>1</td>\n",
       "      <td>0</td>\n",
       "      <td>0</td>\n",
       "      <td>0</td>\n",
       "      <td>0</td>\n",
       "    </tr>\n",
       "  </tbody>\n",
       "</table>\n",
       "<p>10656 rows × 5 columns</p>\n",
       "</div>"
      ],
      "text/plain": [
       "       des_Cochin  des_Delhi  des_Hyderabad  des_Kolkata  des_New Delhi\n",
       "0               0          0              0            0              1\n",
       "1               0          0              0            0              0\n",
       "2               1          0              0            0              0\n",
       "3               0          0              0            0              0\n",
       "4               0          0              0            0              1\n",
       "...           ...        ...            ...          ...            ...\n",
       "10678           0          0              0            0              0\n",
       "10679           0          0              0            0              0\n",
       "10680           0          1              0            0              0\n",
       "10681           0          0              0            0              1\n",
       "10682           1          0              0            0              0\n",
       "\n",
       "[10656 rows x 5 columns]"
      ]
     },
     "execution_count": 51,
     "metadata": {},
     "output_type": "execute_result"
    }
   ],
   "source": [
    "# Create dummy variables\n",
    "dest_dummies = pd.get_dummies(data['Destination'], prefix = 'des', drop_first=True)\n",
    "dest_dummies"
   ]
  },
  {
   "cell_type": "code",
   "execution_count": 52,
   "id": "8a61a2dd",
   "metadata": {},
   "outputs": [],
   "source": [
    "data.drop('Destination', axis = 1, inplace = True)"
   ]
  },
  {
   "cell_type": "code",
   "execution_count": 53,
   "id": "53ba7f74",
   "metadata": {},
   "outputs": [],
   "source": [
    "# Now we concat all the other dummy columns\n",
    "final_data = pd.concat([airline_dummies, journey_day_dummies, source_dummies, dest_dummies, data], axis = 1)"
   ]
  },
  {
   "cell_type": "code",
   "execution_count": 54,
   "id": "f50e1481",
   "metadata": {},
   "outputs": [
    {
     "data": {
      "text/html": [
       "<div>\n",
       "<style scoped>\n",
       "    .dataframe tbody tr th:only-of-type {\n",
       "        vertical-align: middle;\n",
       "    }\n",
       "\n",
       "    .dataframe tbody tr th {\n",
       "        vertical-align: top;\n",
       "    }\n",
       "\n",
       "    .dataframe thead th {\n",
       "        text-align: right;\n",
       "    }\n",
       "</style>\n",
       "<table border=\"1\" class=\"dataframe\">\n",
       "  <thead>\n",
       "    <tr style=\"text-align: right;\">\n",
       "      <th></th>\n",
       "      <th>Air India</th>\n",
       "      <th>GoAir</th>\n",
       "      <th>IndiGo</th>\n",
       "      <th>Jet Airways</th>\n",
       "      <th>Multiple carriers</th>\n",
       "      <th>SpiceJet</th>\n",
       "      <th>Vistara</th>\n",
       "      <th>Monday</th>\n",
       "      <th>Saturday</th>\n",
       "      <th>Sunday</th>\n",
       "      <th>...</th>\n",
       "      <th>dep_time_min</th>\n",
       "      <th>arr_time_hour</th>\n",
       "      <th>arr_time_min</th>\n",
       "      <th>Duration_Hour</th>\n",
       "      <th>Duration_Min</th>\n",
       "      <th>Route_1</th>\n",
       "      <th>Route_2</th>\n",
       "      <th>Route_3</th>\n",
       "      <th>Route_4</th>\n",
       "      <th>Route_5</th>\n",
       "    </tr>\n",
       "  </thead>\n",
       "  <tbody>\n",
       "    <tr>\n",
       "      <th>0</th>\n",
       "      <td>0</td>\n",
       "      <td>0</td>\n",
       "      <td>1</td>\n",
       "      <td>0</td>\n",
       "      <td>0</td>\n",
       "      <td>0</td>\n",
       "      <td>0</td>\n",
       "      <td>0.0</td>\n",
       "      <td>0.0</td>\n",
       "      <td>1.0</td>\n",
       "      <td>...</td>\n",
       "      <td>20.0</td>\n",
       "      <td>1.0</td>\n",
       "      <td>10.0</td>\n",
       "      <td>2.0</td>\n",
       "      <td>50.0</td>\n",
       "      <td>0.0</td>\n",
       "      <td>13.0</td>\n",
       "      <td>29.0</td>\n",
       "      <td>13.0</td>\n",
       "      <td>5.0</td>\n",
       "    </tr>\n",
       "    <tr>\n",
       "      <th>1</th>\n",
       "      <td>1</td>\n",
       "      <td>0</td>\n",
       "      <td>0</td>\n",
       "      <td>0</td>\n",
       "      <td>0</td>\n",
       "      <td>0</td>\n",
       "      <td>0</td>\n",
       "      <td>0.0</td>\n",
       "      <td>1.0</td>\n",
       "      <td>0.0</td>\n",
       "      <td>...</td>\n",
       "      <td>50.0</td>\n",
       "      <td>13.0</td>\n",
       "      <td>15.0</td>\n",
       "      <td>7.0</td>\n",
       "      <td>25.0</td>\n",
       "      <td>2.0</td>\n",
       "      <td>25.0</td>\n",
       "      <td>1.0</td>\n",
       "      <td>3.0</td>\n",
       "      <td>5.0</td>\n",
       "    </tr>\n",
       "    <tr>\n",
       "      <th>2</th>\n",
       "      <td>0</td>\n",
       "      <td>0</td>\n",
       "      <td>0</td>\n",
       "      <td>1</td>\n",
       "      <td>0</td>\n",
       "      <td>0</td>\n",
       "      <td>0</td>\n",
       "      <td>0.0</td>\n",
       "      <td>0.0</td>\n",
       "      <td>0.0</td>\n",
       "      <td>...</td>\n",
       "      <td>25.0</td>\n",
       "      <td>4.0</td>\n",
       "      <td>25.0</td>\n",
       "      <td>19.0</td>\n",
       "      <td>0.0</td>\n",
       "      <td>3.0</td>\n",
       "      <td>32.0</td>\n",
       "      <td>4.0</td>\n",
       "      <td>5.0</td>\n",
       "      <td>5.0</td>\n",
       "    </tr>\n",
       "    <tr>\n",
       "      <th>3</th>\n",
       "      <td>0</td>\n",
       "      <td>0</td>\n",
       "      <td>1</td>\n",
       "      <td>0</td>\n",
       "      <td>0</td>\n",
       "      <td>0</td>\n",
       "      <td>0</td>\n",
       "      <td>0.0</td>\n",
       "      <td>0.0</td>\n",
       "      <td>0.0</td>\n",
       "      <td>...</td>\n",
       "      <td>5.0</td>\n",
       "      <td>23.0</td>\n",
       "      <td>30.0</td>\n",
       "      <td>5.0</td>\n",
       "      <td>25.0</td>\n",
       "      <td>2.0</td>\n",
       "      <td>34.0</td>\n",
       "      <td>3.0</td>\n",
       "      <td>13.0</td>\n",
       "      <td>5.0</td>\n",
       "    </tr>\n",
       "    <tr>\n",
       "      <th>4</th>\n",
       "      <td>0</td>\n",
       "      <td>0</td>\n",
       "      <td>1</td>\n",
       "      <td>0</td>\n",
       "      <td>0</td>\n",
       "      <td>0</td>\n",
       "      <td>0</td>\n",
       "      <td>0.0</td>\n",
       "      <td>0.0</td>\n",
       "      <td>0.0</td>\n",
       "      <td>...</td>\n",
       "      <td>50.0</td>\n",
       "      <td>21.0</td>\n",
       "      <td>35.0</td>\n",
       "      <td>4.0</td>\n",
       "      <td>45.0</td>\n",
       "      <td>0.0</td>\n",
       "      <td>34.0</td>\n",
       "      <td>8.0</td>\n",
       "      <td>13.0</td>\n",
       "      <td>5.0</td>\n",
       "    </tr>\n",
       "  </tbody>\n",
       "</table>\n",
       "<p>5 rows × 36 columns</p>\n",
       "</div>"
      ],
      "text/plain": [
       "   Air India  GoAir  IndiGo  Jet Airways  Multiple carriers  SpiceJet  \\\n",
       "0          0      0       1            0                  0         0   \n",
       "1          1      0       0            0                  0         0   \n",
       "2          0      0       0            1                  0         0   \n",
       "3          0      0       1            0                  0         0   \n",
       "4          0      0       1            0                  0         0   \n",
       "\n",
       "   Vistara  Monday  Saturday  Sunday  ...  dep_time_min  arr_time_hour  \\\n",
       "0        0     0.0       0.0     1.0  ...          20.0            1.0   \n",
       "1        0     0.0       1.0     0.0  ...          50.0           13.0   \n",
       "2        0     0.0       0.0     0.0  ...          25.0            4.0   \n",
       "3        0     0.0       0.0     0.0  ...           5.0           23.0   \n",
       "4        0     0.0       0.0     0.0  ...          50.0           21.0   \n",
       "\n",
       "   arr_time_min  Duration_Hour  Duration_Min  Route_1  Route_2  Route_3  \\\n",
       "0          10.0            2.0          50.0      0.0     13.0     29.0   \n",
       "1          15.0            7.0          25.0      2.0     25.0      1.0   \n",
       "2          25.0           19.0           0.0      3.0     32.0      4.0   \n",
       "3          30.0            5.0          25.0      2.0     34.0      3.0   \n",
       "4          35.0            4.0          45.0      0.0     34.0      8.0   \n",
       "\n",
       "   Route_4  Route_5  \n",
       "0     13.0      5.0  \n",
       "1      3.0      5.0  \n",
       "2      5.0      5.0  \n",
       "3     13.0      5.0  \n",
       "4     13.0      5.0  \n",
       "\n",
       "[5 rows x 36 columns]"
      ]
     },
     "execution_count": 54,
     "metadata": {},
     "output_type": "execute_result"
    }
   ],
   "source": [
    "final_data.head()"
   ]
  },
  {
   "cell_type": "code",
   "execution_count": 55,
   "id": "c9a54c1c",
   "metadata": {},
   "outputs": [
    {
     "name": "stdout",
     "output_type": "stream",
     "text": [
      "<class 'pandas.core.frame.DataFrame'>\n",
      "Int64Index: 10673 entries, 0 to 10682\n",
      "Data columns (total 36 columns):\n",
      " #   Column             Non-Null Count  Dtype  \n",
      "---  ------             --------------  -----  \n",
      " 0   Air India          10673 non-null  uint8  \n",
      " 1   GoAir              10673 non-null  uint8  \n",
      " 2   IndiGo             10673 non-null  uint8  \n",
      " 3   Jet Airways        10673 non-null  uint8  \n",
      " 4   Multiple carriers  10673 non-null  uint8  \n",
      " 5   SpiceJet           10673 non-null  uint8  \n",
      " 6   Vistara            10673 non-null  uint8  \n",
      " 7   Monday             10656 non-null  float64\n",
      " 8   Saturday           10656 non-null  float64\n",
      " 9   Sunday             10656 non-null  float64\n",
      " 10  Thursday           10656 non-null  float64\n",
      " 11  Tuesday            10656 non-null  float64\n",
      " 12  Wednesday          10656 non-null  float64\n",
      " 13  source_Chennai     10656 non-null  float64\n",
      " 14  source_Delhi       10656 non-null  float64\n",
      " 15  source_Kolkata     10656 non-null  float64\n",
      " 16  source_Mumbai      10656 non-null  float64\n",
      " 17  des_Cochin         10656 non-null  float64\n",
      " 18  des_Delhi          10656 non-null  float64\n",
      " 19  des_Hyderabad      10656 non-null  float64\n",
      " 20  des_Kolkata        10656 non-null  float64\n",
      " 21  des_New Delhi      10656 non-null  float64\n",
      " 22  Total_Stops        10656 non-null  float64\n",
      " 23  Price              10656 non-null  object \n",
      " 24  Month              10656 non-null  float64\n",
      " 25  dep_time_hour      10656 non-null  float64\n",
      " 26  dep_time_min       10656 non-null  float64\n",
      " 27  arr_time_hour      10656 non-null  float64\n",
      " 28  arr_time_min       10656 non-null  float64\n",
      " 29  Duration_Hour      10656 non-null  float64\n",
      " 30  Duration_Min       10656 non-null  float64\n",
      " 31  Route_1            10656 non-null  float64\n",
      " 32  Route_2            10656 non-null  float64\n",
      " 33  Route_3            10656 non-null  float64\n",
      " 34  Route_4            10656 non-null  float64\n",
      " 35  Route_5            10656 non-null  float64\n",
      "dtypes: float64(28), object(1), uint8(7)\n",
      "memory usage: 2.5+ MB\n"
     ]
    }
   ],
   "source": [
    "final_data.info()"
   ]
  },
  {
   "cell_type": "code",
   "execution_count": 56,
   "id": "c23ece80",
   "metadata": {},
   "outputs": [],
   "source": [
    "# Fill all the NA values with 0 as they are just empty cells\n",
    "final_data.fillna(value = 0, inplace = True)"
   ]
  },
  {
   "cell_type": "markdown",
   "id": "171a9877",
   "metadata": {},
   "source": [
    "# Model building"
   ]
  },
  {
   "cell_type": "code",
   "execution_count": 59,
   "id": "c08f20a8",
   "metadata": {},
   "outputs": [],
   "source": [
    "# Separate dependent and independent variable\n",
    "X = final_data.drop('Price', axis = 1)\n",
    "y = final_data['Price']"
   ]
  },
  {
   "cell_type": "code",
   "execution_count": 60,
   "id": "064b3cc5",
   "metadata": {},
   "outputs": [],
   "source": [
    "# Split the data into training and test sets\n",
    "from sklearn.model_selection import train_test_split\n",
    "\n",
    "X_train, X_test, y_train, y_test = train_test_split(X, y, test_size=0.3, random_state=42)"
   ]
  },
  {
   "cell_type": "code",
   "execution_count": 61,
   "id": "e129daaa",
   "metadata": {},
   "outputs": [],
   "source": [
    "# Import models\n",
    "from sklearn.linear_model import LinearRegression\n",
    "from sklearn.linear_model import LogisticRegression\n",
    "from sklearn.ensemble import RandomForestRegressor, AdaBoostRegressor, GradientBoostingRegressor\n",
    "from xgboost import XGBRFRegressor, XGBRegressor\n",
    "from sklearn.neighbors import KNeighborsRegressor\n",
    "from sklearn.tree import DecisionTreeRegressor"
   ]
  },
  {
   "cell_type": "code",
   "execution_count": 62,
   "id": "0a5bc7e4",
   "metadata": {},
   "outputs": [],
   "source": [
    "# Define a function to run all the above models\n",
    "from sklearn.metrics import mean_absolute_error, mean_absolute_percentage_error, mean_squared_error, r2_score\n",
    "\n",
    "def model_predict(input_model):\n",
    "    print(f'The model is {input_model}.')\n",
    "    model = input_model.fit(X_train, y_train)\n",
    "    \n",
    "    print(f'Training Score: {model.score(X_train, y_train)}')\n",
    "    \n",
    "    prediction = model.predict(X_test)\n",
    "    print(f'The predictions are {prediction}')\n",
    "    \n",
    "    r2score = r2_score(y_test, prediction)\n",
    "    print(f'The R2 Score is {r2score}.')\n",
    "    \n",
    "    print(f'MAE: {mean_absolute_error(y_test, prediction)}')\n",
    "    print(f'MSE: {mean_squared_error(y_test, prediction)}')\n",
    "    print(f'RMSE:{(np.sqrt(mean_squared_error(y_test,prediction)))}')"
   ]
  },
  {
   "cell_type": "code",
   "execution_count": 63,
   "id": "a3ed0dba",
   "metadata": {},
   "outputs": [
    {
     "name": "stdout",
     "output_type": "stream",
     "text": [
      "The model is LinearRegression().\n",
      "Training Score: 0.6040570785326229\n",
      "The predictions are [ 6739.31472054  7479.37196423  4663.89522151 ... 10336.63243892\n",
      "  8990.48771449  9574.76701107]\n",
      "The R2 Score is 0.6199697871020649.\n",
      "MAE: 1920.8779020770608\n",
      "MSE: 7212545.769243811\n",
      "RMSE:2685.618321587007\n"
     ]
    }
   ],
   "source": [
    "# Use different models for predictions\n",
    "model_predict(LinearRegression())"
   ]
  },
  {
   "cell_type": "code",
   "execution_count": 64,
   "id": "9936ae7a",
   "metadata": {},
   "outputs": [
    {
     "name": "stdout",
     "output_type": "stream",
     "text": [
      "The model is LogisticRegression().\n",
      "Training Score: 0.33047784767768706\n",
      "The predictions are [7229 5117 5964 ... 8032 6628 9646]\n",
      "The R2 Score is 0.36864548605013814.\n",
      "MAE: 2091.840724547158\n",
      "MSE: 11982398.172392255\n",
      "RMSE:3461.5600778250628\n"
     ]
    }
   ],
   "source": [
    "model_predict(LogisticRegression())"
   ]
  },
  {
   "cell_type": "code",
   "execution_count": 65,
   "id": "35da8b84",
   "metadata": {},
   "outputs": [
    {
     "name": "stdout",
     "output_type": "stream",
     "text": [
      "The model is RandomForestRegressor().\n",
      "Training Score: 0.9478291110821255\n",
      "The predictions are [ 5093.11        6635.46333333  6591.18666667 ... 14354.01\n",
      "  6654.42        6912.6575    ]\n",
      "The R2 Score is 0.7902405559972212.\n",
      "MAE: 1314.3252148432452\n",
      "MSE: 3980998.19186612\n",
      "RMSE:1995.2438928276713\n"
     ]
    }
   ],
   "source": [
    "model_predict(RandomForestRegressor())"
   ]
  },
  {
   "cell_type": "code",
   "execution_count": 66,
   "id": "96c4f1e3",
   "metadata": {},
   "outputs": [
    {
     "name": "stdout",
     "output_type": "stream",
     "text": [
      "The model is AdaBoostRegressor().\n",
      "Training Score: 0.5846978026352687\n",
      "The predictions are [ 5123.11290323 10173.89122807 11513.44097035 ... 17952.20542636\n",
      "  9247.25935288 10993.55518395]\n",
      "The R2 Score is 0.5925553308556886.\n",
      "MAE: 2257.5250652102955\n",
      "MSE: 7732841.297612825\n",
      "RMSE:2780.7986798063657\n"
     ]
    }
   ],
   "source": [
    "model_predict(AdaBoostRegressor())"
   ]
  },
  {
   "cell_type": "code",
   "execution_count": 67,
   "id": "49936ab3",
   "metadata": {},
   "outputs": [
    {
     "name": "stdout",
     "output_type": "stream",
     "text": [
      "The model is GradientBoostingRegressor().\n",
      "Training Score: 0.7625031995381779\n",
      "The predictions are [ 6160.23401297  7539.33595006  5946.18060399 ... 15352.67034129\n",
      "  8985.40711381  8178.5968561 ]\n",
      "The R2 Score is 0.7666361834172226.\n",
      "MAE: 1541.872141442324\n",
      "MSE: 4428982.619970648\n",
      "RMSE:2104.514818187472\n"
     ]
    }
   ],
   "source": [
    "model_predict(GradientBoostingRegressor())"
   ]
  },
  {
   "cell_type": "code",
   "execution_count": 69,
   "id": "6eee411c",
   "metadata": {},
   "outputs": [
    {
     "name": "stdout",
     "output_type": "stream",
     "text": [
      "The model is XGBRegressor(base_score=None, booster=None, callbacks=None,\n",
      "             colsample_bylevel=None, colsample_bynode=None,\n",
      "             colsample_bytree=None, early_stopping_rounds=None,\n",
      "             enable_categorical=False, eval_metric=None, gamma=None,\n",
      "             gpu_id=None, grow_policy=None, importance_type=None,\n",
      "             interaction_constraints=None, learning_rate=None, max_bin=None,\n",
      "             max_cat_to_onehot=None, max_delta_step=None, max_depth=None,\n",
      "             max_leaves=None, min_child_weight=None, missing=nan,\n",
      "             monotone_constraints=None, n_estimators=100, n_jobs=None,\n",
      "             num_parallel_tree=None, predictor=None, random_state=None,\n",
      "             reg_alpha=None, reg_lambda=None, ...).\n",
      "Training Score: 0.9299945782177382\n",
      "The predictions are [ 5658.4585  6368.268   6745.2812 ... 14797.16    5213.0723  7179.466 ]\n",
      "The R2 Score is 0.836483820443705.\n",
      "MAE: 1239.3161106121534\n",
      "MSE: 3103353.0730842445\n",
      "RMSE:1761.6336375887709\n"
     ]
    }
   ],
   "source": [
    "model_predict(XGBRegressor())"
   ]
  },
  {
   "cell_type": "code",
   "execution_count": 70,
   "id": "be6874a5",
   "metadata": {},
   "outputs": [
    {
     "name": "stdout",
     "output_type": "stream",
     "text": [
      "The model is KNeighborsRegressor().\n",
      "Training Score: 0.7389546163641565\n",
      "The predictions are [ 5120.4  8582.2  4895.6 ... 11025.6  6941.   7349.6]\n",
      "The R2 Score is 0.6374068944123347.\n",
      "MAE: 1677.4175515302936\n",
      "MSE: 6881609.095552779\n",
      "RMSE:2623.282122752484\n"
     ]
    }
   ],
   "source": [
    "model_predict(KNeighborsRegressor())"
   ]
  },
  {
   "cell_type": "code",
   "execution_count": 71,
   "id": "f77cc122",
   "metadata": {},
   "outputs": [
    {
     "name": "stdout",
     "output_type": "stream",
     "text": [
      "The model is DecisionTreeRegressor().\n",
      "Training Score: 0.9674279690639626\n",
      "The predictions are [ 5886.5  7480.   5964.  ... 17198.   6206.   6565.5]\n",
      "The R2 Score is 0.648929834565075.\n",
      "MAE: 1529.350952529669\n",
      "MSE: 6662916.6589327\n",
      "RMSE:2581.2626094476905\n"
     ]
    }
   ],
   "source": [
    "model_predict(DecisionTreeRegressor())"
   ]
  },
  {
   "cell_type": "markdown",
   "id": "a7a5223c",
   "metadata": {},
   "source": [
    "# Result Visualization"
   ]
  },
  {
   "cell_type": "code",
   "execution_count": 92,
   "id": "10e95a43",
   "metadata": {},
   "outputs": [
    {
     "data": {
      "text/plain": [
       "Text(0, 0.5, 'R2_Score')"
      ]
     },
     "execution_count": 92,
     "metadata": {},
     "output_type": "execute_result"
    },
    {
     "data": {
      "image/png": "[encoded data removed]",
      "text/plain": [
       "<Figure size 576x432 with 1 Axes>"
      ]
     },
     "metadata": {
      "needs_background": "light"
     },
     "output_type": "display_data"
    }
   ],
   "source": [
    "# Visualize the R2 Score across all models\n",
    "d_r2score = {'linr': 0.619, 'logr': 0.368, 'rf': 0.790, 'ada': 0.592, 'grad': 0.766,\n",
    "             'xgb': 0.836, 'knn': 0.637, 'dt': 0.648}\n",
    "\n",
    "plt.figure(figsize=(8,6))\n",
    "plt.bar(range(len(d_r2score)), list(d_r2score.values()), align='center')\n",
    "plt.xticks(range(len(d_r2score)), list(d_r2score.keys()))\n",
    "plt.xlabel('ML_Model')\n",
    "plt.ylabel('R2_Score')"
   ]
  },
  {
   "cell_type": "code",
   "execution_count": 93,
   "id": "7698a41e",
   "metadata": {},
   "outputs": [
    {
     "data": {
      "text/plain": [
       "Text(0, 0.5, 'Mean Absolute Error')"
      ]
     },
     "execution_count": 93,
     "metadata": {},
     "output_type": "execute_result"
    },
    {
     "data": {
      "image/png": "[encoded data removed]",
      "text/plain": [
       "<Figure size 576x432 with 1 Axes>"
      ]
     },
     "metadata": {
      "needs_background": "light"
     },
     "output_type": "display_data"
    }
   ],
   "source": [
    "# Visualize the Mean Absolute Error across all models\n",
    "d_mae = {'linr': 1920.87, 'logr': 2091.84, 'rf': 1314.32, 'ada': 2257.52, 'grad': 1541.87,\n",
    "             'xgb': 1239.31, 'knn': 1677.41, 'dt': 1529.35}\n",
    "\n",
    "plt.figure(figsize=(8,6))\n",
    "plt.bar(range(len(d_mae)), list(d_mae.values()), align='center')\n",
    "plt.xticks(range(len(d_mae)), list(d_mae.keys()))\n",
    "plt.xlabel('ML_Model')\n",
    "plt.ylabel('Mean Absolute Error')"
   ]
  },
  {
   "cell_type": "code",
   "execution_count": 95,
   "id": "7e3b912d",
   "metadata": {},
   "outputs": [
    {
     "data": {
      "text/plain": [
       "Text(0, 0.5, 'Mean Squared Error')"
      ]
     },
     "execution_count": 95,
     "metadata": {},
     "output_type": "execute_result"
    },
    {
     "data": {
      "image/png": "[encoded data removed]",
      "text/plain": [
       "<Figure size 576x432 with 1 Axes>"
      ]
     },
     "metadata": {
      "needs_background": "light"
     },
     "output_type": "display_data"
    }
   ],
   "source": [
    "# Visualize the Mean Squared Error across all models\n",
    "d_mse = {'linr': 7212545.76, 'logr': 11982398.17, 'rf': 3980998.19, 'ada': 7732841.29, 'grad': 4428982.61,\n",
    "             'xgb': 3103353.073, 'knn': 6881609.09, 'dt': 6662916.65}\n",
    "\n",
    "plt.figure(figsize=(8,6))\n",
    "plt.bar(range(len(d_mse)), list(d_mse.values()), align='center')\n",
    "plt.xticks(range(len(d_mse)), list(d_mse.keys()))\n",
    "plt.xlabel('ML_Model')\n",
    "plt.ylabel('Mean Squared Error')"
   ]
  },
  {
   "cell_type": "code",
   "execution_count": 96,
   "id": "cf5f0825",
   "metadata": {},
   "outputs": [
    {
     "data": {
      "text/plain": [
       "Text(0, 0.5, 'Root Mean Squared Error')"
      ]
     },
     "execution_count": 96,
     "metadata": {},
     "output_type": "execute_result"
    },
    {
     "data": {
      "image/png": "[encoded data removed]",
      "text/plain": [
       "<Figure size 576x432 with 1 Axes>"
      ]
     },
     "metadata": {
      "needs_background": "light"
     },
     "output_type": "display_data"
    }
   ],
   "source": [
    "# Visualize the Root Mean Squared Error across all models\n",
    "d_rmse = {'linr': 2685.61, 'logr': 3461.56, 'rf': 1995.24, 'ada': 2780.79, 'grad': 2104.51,\n",
    "             'xgb': 1761.63, 'knn': 2623.28, 'dt': 2581.26}\n",
    "\n",
    "plt.figure(figsize=(8,6))\n",
    "plt.bar(range(len(d_rmse)), list(d_rmse.values()), align='center')\n",
    "plt.xticks(range(len(d_rmse)), list(d_rmse.keys()))\n",
    "plt.xlabel('ML_Model')\n",
    "plt.ylabel('Root Mean Squared Error')"
   ]
  },
  {
   "cell_type": "markdown",
   "id": "d2523593",
   "metadata": {},
   "source": [
    "# Hyperparameter tuning"
   ]
  },
  {
   "cell_type": "markdown",
   "id": "e5677a98",
   "metadata": {},
   "source": [
    "# XG Boost"
   ]
  },
  {
   "cell_type": "code",
   "execution_count": 77,
   "id": "8d3dcc61",
   "metadata": {},
   "outputs": [],
   "source": [
    "from sklearn.model_selection import RandomizedSearchCV\n",
    "\n",
    "params = {\n",
    "    'max_depth': [3, 5, 6, 10, 15, 20],\n",
    "    'learning_rate': [0.01, 0.1, 0.2, 0.3],\n",
    "    'subsample': np.arange(0.5, 1.0, 0.1),\n",
    "    'colsample_bytree': np.arange(0.4, 1.0, 0.1),\n",
    "    'colsample_bylevel': np.arange(0.4, 1.0, 0.1),\n",
    "    'n_estimators': [100, 500, 1000]\n",
    "}"
   ]
  },
  {
   "cell_type": "code",
   "execution_count": 78,
   "id": "77235211",
   "metadata": {},
   "outputs": [],
   "source": [
    "xgb_random = RandomizedSearchCV(estimator=XGBRegressor(),\n",
    "                         param_distributions=params,\n",
    "                         scoring='neg_mean_squared_error',\n",
    "                         n_iter=25,\n",
    "                         verbose=1)"
   ]
  },
  {
   "cell_type": "code",
   "execution_count": 79,
   "id": "93d38ada",
   "metadata": {},
   "outputs": [
    {
     "name": "stdout",
     "output_type": "stream",
     "text": [
      "Fitting 5 folds for each of 25 candidates, totalling 125 fits\n"
     ]
    },
    {
     "data": {
      "text/plain": [
       "{'subsample': 0.8999999999999999,\n",
       " 'n_estimators': 500,\n",
       " 'max_depth': 10,\n",
       " 'learning_rate': 0.01,\n",
       " 'colsample_bytree': 0.8999999999999999,\n",
       " 'colsample_bylevel': 0.5}"
      ]
     },
     "execution_count": 79,
     "metadata": {},
     "output_type": "execute_result"
    }
   ],
   "source": [
    "xgb_random.fit(X_train,y_train)\n",
    "xgb_random.best_params_"
   ]
  },
  {
   "cell_type": "code",
   "execution_count": 80,
   "id": "05c7107f",
   "metadata": {},
   "outputs": [
    {
     "name": "stdout",
     "output_type": "stream",
     "text": [
      "0.8448259810614986\n",
      "1223.135033056782\n"
     ]
    }
   ],
   "source": [
    "prediction_xgb = xgb_random.predict(X_test)\n",
    "print(r2_score(y_test,prediction_xgb))\n",
    "print(mean_absolute_error(y_test, prediction_xgb))"
   ]
  },
  {
   "cell_type": "markdown",
   "id": "e182faab",
   "metadata": {},
   "source": [
    "# Random Forest"
   ]
  },
  {
   "cell_type": "code",
   "execution_count": 81,
   "id": "c250b691",
   "metadata": {},
   "outputs": [],
   "source": [
    "random_grid = {\n",
    "    'n_estimators' : [100, 120, 150, 180, 200,220],\n",
    "    'max_features':['auto','sqrt'],\n",
    "    'max_depth':[5,10,15,20],\n",
    "    }"
   ]
  },
  {
   "cell_type": "code",
   "execution_count": 82,
   "id": "da14d4fa",
   "metadata": {},
   "outputs": [
    {
     "name": "stdout",
     "output_type": "stream",
     "text": [
      "Fitting 3 folds for each of 10 candidates, totalling 30 fits\n",
      "0.8099441030354291\n",
      "1279.795675178655\n"
     ]
    }
   ],
   "source": [
    "rf=RandomForestRegressor()\n",
    "\n",
    "rf_random=RandomizedSearchCV(estimator=rf,\n",
    "                             param_distributions=random_grid,\n",
    "                             cv=3,verbose=2,n_jobs=-1,)\n",
    "\n",
    "rf_random.fit(X_train,y_train)\n",
    "\n",
    "rf_random.best_params_\n",
    "\n",
    "prediction = rf_random.predict(X_test)\n",
    "\n",
    "print(r2_score(y_test,prediction))\n",
    "print(mean_absolute_error(y_test, prediction))"
   ]
  },
  {
   "cell_type": "markdown",
   "id": "5120f956",
   "metadata": {},
   "source": [
    "# Conclusion\n",
    "## XGBoost model without any parameter tuning performed the best with the least MAE of 1223.1 and R2 score of 0.845."
   ]
  }
 ],
 "metadata": {
  "kernelspec": {
   "display_name": "Python 3",
   "language": "python",
   "name": "python3"
  },
  "language_info": {
   "codemirror_mode": {
    "name": "ipython",
    "version": 3
   },
   "file_extension": ".py",
   "mimetype": "text/x-python",
   "name": "python",
   "nbconvert_exporter": "python",
   "pygments_lexer": "ipython3",
   "version": "3.8.8"
  }
 },
 "nbformat": 4,
 "nbformat_minor": 5
}
